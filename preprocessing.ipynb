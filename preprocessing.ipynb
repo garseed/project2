{
 "cells": [
  {
   "cell_type": "markdown",
   "metadata": {},
   "source": [
    "# Load Libraries and Data"
   ]
  },
  {
   "cell_type": "code",
   "execution_count": 34,
   "metadata": {},
   "outputs": [
    {
     "data": {
      "text/html": [
       "<div>\n",
       "<style scoped>\n",
       "    .dataframe tbody tr th:only-of-type {\n",
       "        vertical-align: middle;\n",
       "    }\n",
       "\n",
       "    .dataframe tbody tr th {\n",
       "        vertical-align: top;\n",
       "    }\n",
       "\n",
       "    .dataframe thead th {\n",
       "        text-align: right;\n",
       "    }\n",
       "</style>\n",
       "<table border=\"1\" class=\"dataframe\">\n",
       "  <thead>\n",
       "    <tr style=\"text-align: right;\">\n",
       "      <th></th>\n",
       "      <th>date</th>\n",
       "      <th>price</th>\n",
       "      <th>bedrooms</th>\n",
       "      <th>bathrooms</th>\n",
       "      <th>sqft_living</th>\n",
       "      <th>sqft_lot</th>\n",
       "      <th>floors</th>\n",
       "      <th>waterfront</th>\n",
       "      <th>view</th>\n",
       "      <th>condition</th>\n",
       "      <th>grade</th>\n",
       "      <th>sqft_above</th>\n",
       "      <th>sqft_basement</th>\n",
       "      <th>yr_built</th>\n",
       "      <th>yr_renovated</th>\n",
       "      <th>zipcode</th>\n",
       "      <th>lat</th>\n",
       "      <th>long</th>\n",
       "      <th>sqft_living15</th>\n",
       "      <th>sqft_lot15</th>\n",
       "    </tr>\n",
       "    <tr>\n",
       "      <th>id</th>\n",
       "      <th></th>\n",
       "      <th></th>\n",
       "      <th></th>\n",
       "      <th></th>\n",
       "      <th></th>\n",
       "      <th></th>\n",
       "      <th></th>\n",
       "      <th></th>\n",
       "      <th></th>\n",
       "      <th></th>\n",
       "      <th></th>\n",
       "      <th></th>\n",
       "      <th></th>\n",
       "      <th></th>\n",
       "      <th></th>\n",
       "      <th></th>\n",
       "      <th></th>\n",
       "      <th></th>\n",
       "      <th></th>\n",
       "      <th></th>\n",
       "    </tr>\n",
       "  </thead>\n",
       "  <tbody>\n",
       "    <tr>\n",
       "      <th>7129300520</th>\n",
       "      <td>10/13/2014</td>\n",
       "      <td>221900.0</td>\n",
       "      <td>3</td>\n",
       "      <td>1.00</td>\n",
       "      <td>1180</td>\n",
       "      <td>5650</td>\n",
       "      <td>1.0</td>\n",
       "      <td>NaN</td>\n",
       "      <td>0.0</td>\n",
       "      <td>3</td>\n",
       "      <td>7</td>\n",
       "      <td>1180</td>\n",
       "      <td>0.0</td>\n",
       "      <td>1955</td>\n",
       "      <td>0.0</td>\n",
       "      <td>98178</td>\n",
       "      <td>47.5112</td>\n",
       "      <td>-122.257</td>\n",
       "      <td>1340</td>\n",
       "      <td>5650</td>\n",
       "    </tr>\n",
       "    <tr>\n",
       "      <th>6414100192</th>\n",
       "      <td>12/9/2014</td>\n",
       "      <td>538000.0</td>\n",
       "      <td>3</td>\n",
       "      <td>2.25</td>\n",
       "      <td>2570</td>\n",
       "      <td>7242</td>\n",
       "      <td>2.0</td>\n",
       "      <td>0.0</td>\n",
       "      <td>0.0</td>\n",
       "      <td>3</td>\n",
       "      <td>7</td>\n",
       "      <td>2170</td>\n",
       "      <td>400.0</td>\n",
       "      <td>1951</td>\n",
       "      <td>1991.0</td>\n",
       "      <td>98125</td>\n",
       "      <td>47.7210</td>\n",
       "      <td>-122.319</td>\n",
       "      <td>1690</td>\n",
       "      <td>7639</td>\n",
       "    </tr>\n",
       "    <tr>\n",
       "      <th>5631500400</th>\n",
       "      <td>2/25/2015</td>\n",
       "      <td>180000.0</td>\n",
       "      <td>2</td>\n",
       "      <td>1.00</td>\n",
       "      <td>770</td>\n",
       "      <td>10000</td>\n",
       "      <td>1.0</td>\n",
       "      <td>0.0</td>\n",
       "      <td>0.0</td>\n",
       "      <td>3</td>\n",
       "      <td>6</td>\n",
       "      <td>770</td>\n",
       "      <td>0.0</td>\n",
       "      <td>1933</td>\n",
       "      <td>NaN</td>\n",
       "      <td>98028</td>\n",
       "      <td>47.7379</td>\n",
       "      <td>-122.233</td>\n",
       "      <td>2720</td>\n",
       "      <td>8062</td>\n",
       "    </tr>\n",
       "    <tr>\n",
       "      <th>2487200875</th>\n",
       "      <td>12/9/2014</td>\n",
       "      <td>604000.0</td>\n",
       "      <td>4</td>\n",
       "      <td>3.00</td>\n",
       "      <td>1960</td>\n",
       "      <td>5000</td>\n",
       "      <td>1.0</td>\n",
       "      <td>0.0</td>\n",
       "      <td>0.0</td>\n",
       "      <td>5</td>\n",
       "      <td>7</td>\n",
       "      <td>1050</td>\n",
       "      <td>910.0</td>\n",
       "      <td>1965</td>\n",
       "      <td>0.0</td>\n",
       "      <td>98136</td>\n",
       "      <td>47.5208</td>\n",
       "      <td>-122.393</td>\n",
       "      <td>1360</td>\n",
       "      <td>5000</td>\n",
       "    </tr>\n",
       "    <tr>\n",
       "      <th>1954400510</th>\n",
       "      <td>2/18/2015</td>\n",
       "      <td>510000.0</td>\n",
       "      <td>3</td>\n",
       "      <td>2.00</td>\n",
       "      <td>1680</td>\n",
       "      <td>8080</td>\n",
       "      <td>1.0</td>\n",
       "      <td>0.0</td>\n",
       "      <td>0.0</td>\n",
       "      <td>3</td>\n",
       "      <td>8</td>\n",
       "      <td>1680</td>\n",
       "      <td>0.0</td>\n",
       "      <td>1987</td>\n",
       "      <td>0.0</td>\n",
       "      <td>98074</td>\n",
       "      <td>47.6168</td>\n",
       "      <td>-122.045</td>\n",
       "      <td>1800</td>\n",
       "      <td>7503</td>\n",
       "    </tr>\n",
       "  </tbody>\n",
       "</table>\n",
       "</div>"
      ],
      "text/plain": [
       "                  date     price  bedrooms  bathrooms  sqft_living  sqft_lot  \\\n",
       "id                                                                             \n",
       "7129300520  10/13/2014  221900.0         3       1.00         1180      5650   \n",
       "6414100192   12/9/2014  538000.0         3       2.25         2570      7242   \n",
       "5631500400   2/25/2015  180000.0         2       1.00          770     10000   \n",
       "2487200875   12/9/2014  604000.0         4       3.00         1960      5000   \n",
       "1954400510   2/18/2015  510000.0         3       2.00         1680      8080   \n",
       "\n",
       "            floors  waterfront  view  condition  grade  sqft_above  \\\n",
       "id                                                                   \n",
       "7129300520     1.0         NaN   0.0          3      7        1180   \n",
       "6414100192     2.0         0.0   0.0          3      7        2170   \n",
       "5631500400     1.0         0.0   0.0          3      6         770   \n",
       "2487200875     1.0         0.0   0.0          5      7        1050   \n",
       "1954400510     1.0         0.0   0.0          3      8        1680   \n",
       "\n",
       "           sqft_basement  yr_built  yr_renovated  zipcode      lat     long  \\\n",
       "id                                                                            \n",
       "7129300520           0.0      1955           0.0    98178  47.5112 -122.257   \n",
       "6414100192         400.0      1951        1991.0    98125  47.7210 -122.319   \n",
       "5631500400           0.0      1933           NaN    98028  47.7379 -122.233   \n",
       "2487200875         910.0      1965           0.0    98136  47.5208 -122.393   \n",
       "1954400510           0.0      1987           0.0    98074  47.6168 -122.045   \n",
       "\n",
       "            sqft_living15  sqft_lot15  \n",
       "id                                     \n",
       "7129300520           1340        5650  \n",
       "6414100192           1690        7639  \n",
       "5631500400           2720        8062  \n",
       "2487200875           1360        5000  \n",
       "1954400510           1800        7503  "
      ]
     },
     "execution_count": 34,
     "metadata": {},
     "output_type": "execute_result"
    }
   ],
   "source": [
    "import pandas as pd\n",
    "import numpy as np\n",
    "import sqlite3\n",
    "import seaborn as sns\n",
    "import matplotlib.pyplot as plt\n",
    "%matplotlib inline\n",
    "\n",
    "plt.style.use('seaborn')\n",
    "df = pd.read_csv('data/kc_house_data.csv', index_col=0)\n",
    "\n",
    "# check the columns and first few rows\n",
    "df.head()"
   ]
  },
  {
   "cell_type": "markdown",
   "metadata": {},
   "source": [
    "# Explore the Data"
   ]
  },
  {
   "cell_type": "code",
   "execution_count": 57,
   "metadata": {},
   "outputs": [
    {
     "name": "stdout",
     "output_type": "stream",
     "text": [
      "(19221, 20)\n",
      "\n",
      "\n",
      "<class 'pandas.core.frame.DataFrame'>\n",
      "Int64Index: 19221 entries, 6414100192 to 1523300157\n",
      "Data columns (total 20 columns):\n",
      " #   Column         Non-Null Count  Dtype  \n",
      "---  ------         --------------  -----  \n",
      " 0   date           19221 non-null  object \n",
      " 1   price          19221 non-null  float64\n",
      " 2   bedrooms       19221 non-null  int64  \n",
      " 3   bathrooms      19221 non-null  float64\n",
      " 4   sqft_living    19221 non-null  int64  \n",
      " 5   sqft_lot       19221 non-null  int64  \n",
      " 6   floors         19221 non-null  float64\n",
      " 7   waterfront     19221 non-null  float64\n",
      " 8   view           19164 non-null  float64\n",
      " 9   condition      19221 non-null  int64  \n",
      " 10  grade          19221 non-null  int64  \n",
      " 11  sqft_above     19221 non-null  int64  \n",
      " 12  sqft_basement  19221 non-null  float64\n",
      " 13  yr_built       19221 non-null  int64  \n",
      " 14  yr_renovated   19221 non-null  float64\n",
      " 15  zipcode        19221 non-null  int64  \n",
      " 16  lat            19221 non-null  float64\n",
      " 17  long           19221 non-null  float64\n",
      " 18  sqft_living15  19221 non-null  int64  \n",
      " 19  sqft_lot15     19221 non-null  int64  \n",
      "dtypes: float64(9), int64(10), object(1)\n",
      "memory usage: 3.1+ MB\n"
     ]
    }
   ],
   "source": [
    "# get the total counts and data types for each column\n",
    "print(df.shape)\n",
    "print(\"\\n\")\n",
    "df.info()"
   ]
  },
  {
   "cell_type": "code",
   "execution_count": 58,
   "metadata": {},
   "outputs": [
    {
     "data": {
      "text/html": [
       "<div>\n",
       "<style scoped>\n",
       "    .dataframe tbody tr th:only-of-type {\n",
       "        vertical-align: middle;\n",
       "    }\n",
       "\n",
       "    .dataframe tbody tr th {\n",
       "        vertical-align: top;\n",
       "    }\n",
       "\n",
       "    .dataframe thead th {\n",
       "        text-align: right;\n",
       "    }\n",
       "</style>\n",
       "<table border=\"1\" class=\"dataframe\">\n",
       "  <thead>\n",
       "    <tr style=\"text-align: right;\">\n",
       "      <th></th>\n",
       "      <th>price</th>\n",
       "      <th>bedrooms</th>\n",
       "      <th>bathrooms</th>\n",
       "      <th>sqft_living</th>\n",
       "      <th>sqft_lot</th>\n",
       "      <th>floors</th>\n",
       "      <th>waterfront</th>\n",
       "      <th>view</th>\n",
       "      <th>condition</th>\n",
       "      <th>grade</th>\n",
       "      <th>sqft_above</th>\n",
       "      <th>sqft_basement</th>\n",
       "      <th>yr_built</th>\n",
       "      <th>yr_renovated</th>\n",
       "      <th>zipcode</th>\n",
       "      <th>lat</th>\n",
       "      <th>long</th>\n",
       "      <th>sqft_living15</th>\n",
       "      <th>sqft_lot15</th>\n",
       "    </tr>\n",
       "  </thead>\n",
       "  <tbody>\n",
       "    <tr>\n",
       "      <th>count</th>\n",
       "      <td>1.922100e+04</td>\n",
       "      <td>19221.000000</td>\n",
       "      <td>19221.000000</td>\n",
       "      <td>19221.000000</td>\n",
       "      <td>1.922100e+04</td>\n",
       "      <td>19221.000000</td>\n",
       "      <td>19221.000000</td>\n",
       "      <td>19164.000000</td>\n",
       "      <td>19221.000000</td>\n",
       "      <td>19221.000000</td>\n",
       "      <td>19221.000000</td>\n",
       "      <td>19221.000000</td>\n",
       "      <td>19221.000000</td>\n",
       "      <td>19221.000000</td>\n",
       "      <td>19221.000000</td>\n",
       "      <td>19221.000000</td>\n",
       "      <td>19221.000000</td>\n",
       "      <td>19221.000000</td>\n",
       "      <td>19221.000000</td>\n",
       "    </tr>\n",
       "    <tr>\n",
       "      <th>mean</th>\n",
       "      <td>5.416398e+05</td>\n",
       "      <td>3.374642</td>\n",
       "      <td>2.117072</td>\n",
       "      <td>2082.420894</td>\n",
       "      <td>1.507376e+04</td>\n",
       "      <td>1.495031</td>\n",
       "      <td>0.007596</td>\n",
       "      <td>0.231058</td>\n",
       "      <td>3.409968</td>\n",
       "      <td>7.661048</td>\n",
       "      <td>1791.366058</td>\n",
       "      <td>284.841111</td>\n",
       "      <td>1971.039800</td>\n",
       "      <td>67.708132</td>\n",
       "      <td>98077.736382</td>\n",
       "      <td>47.559923</td>\n",
       "      <td>-122.214042</td>\n",
       "      <td>1987.375943</td>\n",
       "      <td>12806.692108</td>\n",
       "    </tr>\n",
       "    <tr>\n",
       "      <th>std</th>\n",
       "      <td>3.722478e+05</td>\n",
       "      <td>0.928539</td>\n",
       "      <td>0.769576</td>\n",
       "      <td>922.544859</td>\n",
       "      <td>4.081729e+04</td>\n",
       "      <td>0.540155</td>\n",
       "      <td>0.086825</td>\n",
       "      <td>0.763368</td>\n",
       "      <td>0.650280</td>\n",
       "      <td>1.175998</td>\n",
       "      <td>831.727580</td>\n",
       "      <td>439.978247</td>\n",
       "      <td>29.384666</td>\n",
       "      <td>361.356934</td>\n",
       "      <td>53.456300</td>\n",
       "      <td>0.138692</td>\n",
       "      <td>0.140728</td>\n",
       "      <td>684.723981</td>\n",
       "      <td>27576.842373</td>\n",
       "    </tr>\n",
       "    <tr>\n",
       "      <th>min</th>\n",
       "      <td>7.800000e+04</td>\n",
       "      <td>1.000000</td>\n",
       "      <td>0.500000</td>\n",
       "      <td>370.000000</td>\n",
       "      <td>5.200000e+02</td>\n",
       "      <td>1.000000</td>\n",
       "      <td>0.000000</td>\n",
       "      <td>0.000000</td>\n",
       "      <td>1.000000</td>\n",
       "      <td>3.000000</td>\n",
       "      <td>370.000000</td>\n",
       "      <td>0.000000</td>\n",
       "      <td>1900.000000</td>\n",
       "      <td>0.000000</td>\n",
       "      <td>98001.000000</td>\n",
       "      <td>47.155900</td>\n",
       "      <td>-122.519000</td>\n",
       "      <td>399.000000</td>\n",
       "      <td>651.000000</td>\n",
       "    </tr>\n",
       "    <tr>\n",
       "      <th>25%</th>\n",
       "      <td>3.220000e+05</td>\n",
       "      <td>3.000000</td>\n",
       "      <td>1.750000</td>\n",
       "      <td>1430.000000</td>\n",
       "      <td>5.040000e+03</td>\n",
       "      <td>1.000000</td>\n",
       "      <td>0.000000</td>\n",
       "      <td>0.000000</td>\n",
       "      <td>3.000000</td>\n",
       "      <td>7.000000</td>\n",
       "      <td>1200.000000</td>\n",
       "      <td>0.000000</td>\n",
       "      <td>1951.000000</td>\n",
       "      <td>0.000000</td>\n",
       "      <td>98033.000000</td>\n",
       "      <td>47.470700</td>\n",
       "      <td>-122.328000</td>\n",
       "      <td>1490.000000</td>\n",
       "      <td>5100.000000</td>\n",
       "    </tr>\n",
       "    <tr>\n",
       "      <th>50%</th>\n",
       "      <td>4.500000e+05</td>\n",
       "      <td>3.000000</td>\n",
       "      <td>2.250000</td>\n",
       "      <td>1920.000000</td>\n",
       "      <td>7.620000e+03</td>\n",
       "      <td>1.500000</td>\n",
       "      <td>0.000000</td>\n",
       "      <td>0.000000</td>\n",
       "      <td>3.000000</td>\n",
       "      <td>7.000000</td>\n",
       "      <td>1560.000000</td>\n",
       "      <td>0.000000</td>\n",
       "      <td>1975.000000</td>\n",
       "      <td>0.000000</td>\n",
       "      <td>98065.000000</td>\n",
       "      <td>47.571900</td>\n",
       "      <td>-122.231000</td>\n",
       "      <td>1840.000000</td>\n",
       "      <td>7620.000000</td>\n",
       "    </tr>\n",
       "    <tr>\n",
       "      <th>75%</th>\n",
       "      <td>6.440000e+05</td>\n",
       "      <td>4.000000</td>\n",
       "      <td>2.500000</td>\n",
       "      <td>2550.000000</td>\n",
       "      <td>1.071600e+04</td>\n",
       "      <td>2.000000</td>\n",
       "      <td>0.000000</td>\n",
       "      <td>0.000000</td>\n",
       "      <td>4.000000</td>\n",
       "      <td>8.000000</td>\n",
       "      <td>2220.000000</td>\n",
       "      <td>540.000000</td>\n",
       "      <td>1997.000000</td>\n",
       "      <td>0.000000</td>\n",
       "      <td>98117.000000</td>\n",
       "      <td>47.678000</td>\n",
       "      <td>-122.125000</td>\n",
       "      <td>2360.000000</td>\n",
       "      <td>10092.000000</td>\n",
       "    </tr>\n",
       "    <tr>\n",
       "      <th>max</th>\n",
       "      <td>7.700000e+06</td>\n",
       "      <td>33.000000</td>\n",
       "      <td>8.000000</td>\n",
       "      <td>13540.000000</td>\n",
       "      <td>1.651359e+06</td>\n",
       "      <td>3.500000</td>\n",
       "      <td>1.000000</td>\n",
       "      <td>4.000000</td>\n",
       "      <td>5.000000</td>\n",
       "      <td>13.000000</td>\n",
       "      <td>9410.000000</td>\n",
       "      <td>4820.000000</td>\n",
       "      <td>2015.000000</td>\n",
       "      <td>2015.000000</td>\n",
       "      <td>98199.000000</td>\n",
       "      <td>47.777600</td>\n",
       "      <td>-121.315000</td>\n",
       "      <td>6210.000000</td>\n",
       "      <td>871200.000000</td>\n",
       "    </tr>\n",
       "  </tbody>\n",
       "</table>\n",
       "</div>"
      ],
      "text/plain": [
       "              price      bedrooms     bathrooms   sqft_living      sqft_lot  \\\n",
       "count  1.922100e+04  19221.000000  19221.000000  19221.000000  1.922100e+04   \n",
       "mean   5.416398e+05      3.374642      2.117072   2082.420894  1.507376e+04   \n",
       "std    3.722478e+05      0.928539      0.769576    922.544859  4.081729e+04   \n",
       "min    7.800000e+04      1.000000      0.500000    370.000000  5.200000e+02   \n",
       "25%    3.220000e+05      3.000000      1.750000   1430.000000  5.040000e+03   \n",
       "50%    4.500000e+05      3.000000      2.250000   1920.000000  7.620000e+03   \n",
       "75%    6.440000e+05      4.000000      2.500000   2550.000000  1.071600e+04   \n",
       "max    7.700000e+06     33.000000      8.000000  13540.000000  1.651359e+06   \n",
       "\n",
       "             floors    waterfront          view     condition         grade  \\\n",
       "count  19221.000000  19221.000000  19164.000000  19221.000000  19221.000000   \n",
       "mean       1.495031      0.007596      0.231058      3.409968      7.661048   \n",
       "std        0.540155      0.086825      0.763368      0.650280      1.175998   \n",
       "min        1.000000      0.000000      0.000000      1.000000      3.000000   \n",
       "25%        1.000000      0.000000      0.000000      3.000000      7.000000   \n",
       "50%        1.500000      0.000000      0.000000      3.000000      7.000000   \n",
       "75%        2.000000      0.000000      0.000000      4.000000      8.000000   \n",
       "max        3.500000      1.000000      4.000000      5.000000     13.000000   \n",
       "\n",
       "         sqft_above  sqft_basement      yr_built  yr_renovated       zipcode  \\\n",
       "count  19221.000000   19221.000000  19221.000000  19221.000000  19221.000000   \n",
       "mean    1791.366058     284.841111   1971.039800     67.708132  98077.736382   \n",
       "std      831.727580     439.978247     29.384666    361.356934     53.456300   \n",
       "min      370.000000       0.000000   1900.000000      0.000000  98001.000000   \n",
       "25%     1200.000000       0.000000   1951.000000      0.000000  98033.000000   \n",
       "50%     1560.000000       0.000000   1975.000000      0.000000  98065.000000   \n",
       "75%     2220.000000     540.000000   1997.000000      0.000000  98117.000000   \n",
       "max     9410.000000    4820.000000   2015.000000   2015.000000  98199.000000   \n",
       "\n",
       "                lat          long  sqft_living15     sqft_lot15  \n",
       "count  19221.000000  19221.000000   19221.000000   19221.000000  \n",
       "mean      47.559923   -122.214042    1987.375943   12806.692108  \n",
       "std        0.138692      0.140728     684.723981   27576.842373  \n",
       "min       47.155900   -122.519000     399.000000     651.000000  \n",
       "25%       47.470700   -122.328000    1490.000000    5100.000000  \n",
       "50%       47.571900   -122.231000    1840.000000    7620.000000  \n",
       "75%       47.678000   -122.125000    2360.000000   10092.000000  \n",
       "max       47.777600   -121.315000    6210.000000  871200.000000  "
      ]
     },
     "execution_count": 58,
     "metadata": {},
     "output_type": "execute_result"
    }
   ],
   "source": [
    "# Get descriptions of each column\n",
    "df.describe()"
   ]
  },
  {
   "cell_type": "code",
   "execution_count": 59,
   "metadata": {},
   "outputs": [
    {
     "name": "stdout",
     "output_type": "stream",
     "text": [
      "Number of duplicates:  0\n"
     ]
    }
   ],
   "source": [
    "# look for duplicates\n",
    "duplicate_rows_df = df[df.duplicated()]\n",
    "print(\"Number of duplicates: \", len(duplicate_rows_df))"
   ]
  },
  {
   "cell_type": "code",
   "execution_count": 60,
   "metadata": {},
   "outputs": [
    {
     "name": "stdout",
     "output_type": "stream",
     "text": [
      "date 6/23/2014    124\n",
      "6/25/2014    120\n",
      "6/26/2014    116\n",
      "7/8/2014     114\n",
      "4/21/2015    112\n",
      "Name: date, dtype: int64\n",
      "\n",
      "\n",
      "price 450000.0    153\n",
      "350000.0    147\n",
      "550000.0    144\n",
      "500000.0    142\n",
      "425000.0    135\n",
      "           ... \n",
      "225800.0      1\n",
      "444500.0      1\n",
      "608250.0      1\n",
      "418800.0      1\n",
      "884744.0      1\n",
      "Name: price, Length: 3391, dtype: int64\n",
      "\n",
      "\n",
      "bedrooms 3    8721\n",
      "4    6149\n",
      "2    2451\n",
      "5    1441\n",
      "6     227\n",
      "Name: bedrooms, dtype: int64\n",
      "\n",
      "\n",
      "bathrooms 2.50    4839\n",
      "1.00    3411\n",
      "1.75    2725\n",
      "2.25    1788\n",
      "2.00    1722\n",
      "1.50    1283\n",
      "2.75    1038\n",
      "3.00     662\n",
      "3.50     656\n",
      "3.25     521\n",
      "3.75     136\n",
      "4.00     121\n",
      "4.50      91\n",
      "4.25      73\n",
      "0.75      65\n",
      "4.75      22\n",
      "5.00      17\n",
      "Name: bathrooms, dtype: int64\n",
      "\n",
      "\n",
      "sqft_living 1300    125\n",
      "1440    121\n",
      "1400    120\n",
      "1820    118\n",
      "1660    113\n",
      "Name: sqft_living, dtype: int64\n",
      "\n",
      "\n",
      "sqft_lot 5000    329\n",
      "6000    253\n",
      "4000    222\n",
      "7200    186\n",
      "4800    112\n",
      "Name: sqft_lot, dtype: int64\n",
      "\n",
      "\n",
      "floors 1.0    9493\n",
      "2.0    7350\n",
      "1.5    1681\n",
      "3.0     546\n",
      "2.5     145\n",
      "3.5       6\n",
      "Name: floors, dtype: int64\n",
      "\n",
      "\n",
      "waterfront 0.0    19075\n",
      "1.0      146\n",
      "Name: waterfront, dtype: int64\n",
      "\n",
      "\n",
      "view 0.0    17312\n",
      "2.0      836\n",
      "3.0      435\n",
      "1.0      291\n",
      "4.0      290\n",
      "Name: view, dtype: int64\n",
      "\n",
      "\n",
      "condition 3    12474\n",
      "4     5058\n",
      "5     1512\n",
      "2      152\n",
      "1       25\n",
      "Name: condition, dtype: int64\n",
      "\n",
      "\n",
      "grade 7     7974\n",
      "8     5409\n",
      "9     2320\n",
      "6     1810\n",
      "10    1018\n",
      "Name: grade, dtype: int64\n",
      "\n",
      "\n",
      "sqft_above 1300    193\n",
      "1010    185\n",
      "1200    176\n",
      "1220    171\n",
      "1060    168\n",
      "Name: sqft_above, dtype: int64\n",
      "\n",
      "\n",
      "sqft_basement 0.0       11822\n",
      "600.0       191\n",
      "700.0       187\n",
      "500.0       186\n",
      "800.0       171\n",
      "          ...  \n",
      "374.0         1\n",
      "518.0         1\n",
      "266.0         1\n",
      "1930.0        1\n",
      "1135.0        1\n",
      "Name: sqft_basement, Length: 299, dtype: int64\n",
      "\n",
      "\n",
      "yr_built 2014    496\n",
      "2006    404\n",
      "2005    395\n",
      "2007    372\n",
      "2003    372\n",
      "Name: yr_built, dtype: int64\n",
      "\n",
      "\n",
      "yr_renovated 0.0       18569\n",
      "2014.0       64\n",
      "2013.0       29\n",
      "2005.0       27\n",
      "2000.0       25\n",
      "          ...  \n",
      "1953.0        1\n",
      "1950.0        1\n",
      "1954.0        1\n",
      "1959.0        1\n",
      "1971.0        1\n",
      "Name: yr_renovated, Length: 70, dtype: int64\n",
      "\n",
      "\n",
      "zipcode 98103    540\n",
      "98038    528\n",
      "98115    515\n",
      "98052    506\n",
      "98117    495\n",
      "Name: zipcode, dtype: int64\n",
      "\n",
      "\n",
      "lat 47.6846    15\n",
      "47.6624    15\n",
      "47.6955    15\n",
      "47.5322    15\n",
      "47.6647    15\n",
      "           ..\n",
      "47.2791     1\n",
      "47.6130     1\n",
      "47.2897     1\n",
      "47.4603     1\n",
      "47.2715     1\n",
      "Name: lat, Length: 4944, dtype: int64\n",
      "\n",
      "\n",
      "long -122.290    102\n",
      "-122.300     97\n",
      "-122.372     91\n",
      "-122.288     90\n",
      "-122.363     90\n",
      "           ... \n",
      "-121.818      1\n",
      "-122.499      1\n",
      "-121.792      1\n",
      "-122.512      1\n",
      "-121.893      1\n",
      "Name: long, Length: 741, dtype: int64\n",
      "\n",
      "\n",
      "sqft_living15 1560    173\n",
      "1440    173\n",
      "1540    171\n",
      "1500    157\n",
      "1460    153\n",
      "Name: sqft_living15, dtype: int64\n",
      "\n",
      "\n",
      "sqft_lot15 5000    381\n",
      "4000    323\n",
      "6000    257\n",
      "7200    183\n",
      "4800    131\n",
      "Name: sqft_lot15, dtype: int64\n",
      "\n",
      "\n"
     ]
    }
   ],
   "source": [
    "# preview 5 most frequent values of a col in a loop, for each string col.\n",
    "# looking for extraneous values and getting to know the data\n",
    "for col in df.columns:\n",
    "    try:\n",
    "        print(col, df[col].value_counts()[:5])\n",
    "    except:\n",
    "        print(col, df[col].value_counts())\n",
    "    print('\\n')"
   ]
  },
  {
   "cell_type": "code",
   "execution_count": 61,
   "metadata": {},
   "outputs": [],
   "source": [
    "# replace extraneous value '?' in 'sqft_basement' col to equal 0 as that is mode\n",
    "# convert to type to float\n",
    "df.sqft_basement = df.sqft_basement.map(lambda x: '0' if x == '?' else x)\n",
    "df.sqft_basement = df.sqft_basement.astype('float')"
   ]
  },
  {
   "cell_type": "code",
   "execution_count": 62,
   "metadata": {},
   "outputs": [
    {
     "data": {
      "text/plain": [
       "0.0       11822\n",
       "600.0       191\n",
       "700.0       187\n",
       "500.0       186\n",
       "800.0       171\n",
       "          ...  \n",
       "374.0         1\n",
       "518.0         1\n",
       "266.0         1\n",
       "1930.0        1\n",
       "1135.0        1\n",
       "Name: sqft_basement, Length: 299, dtype: int64"
      ]
     },
     "execution_count": 62,
     "metadata": {},
     "output_type": "execute_result"
    }
   ],
   "source": [
    "# see results\n",
    "df.sqft_basement.value_counts()"
   ]
  },
  {
   "cell_type": "code",
   "execution_count": 63,
   "metadata": {},
   "outputs": [
    {
     "data": {
      "text/plain": [
       "date              0\n",
       "price             0\n",
       "bedrooms          0\n",
       "bathrooms         0\n",
       "sqft_living       0\n",
       "sqft_lot          0\n",
       "floors            0\n",
       "waterfront        0\n",
       "view             57\n",
       "condition         0\n",
       "grade             0\n",
       "sqft_above        0\n",
       "sqft_basement     0\n",
       "yr_built          0\n",
       "yr_renovated      0\n",
       "zipcode           0\n",
       "lat               0\n",
       "long              0\n",
       "sqft_living15     0\n",
       "sqft_lot15        0\n",
       "dtype: int64"
      ]
     },
     "execution_count": 63,
     "metadata": {},
     "output_type": "execute_result"
    }
   ],
   "source": [
    "# check for null values\n",
    "df.isna().sum()"
   ]
  },
  {
   "cell_type": "markdown",
   "metadata": {},
   "source": [
    "# Scrub the Data"
   ]
  },
  {
   "cell_type": "code",
   "execution_count": 64,
   "metadata": {
    "scrolled": true
   },
   "outputs": [
    {
     "name": "stdout",
     "output_type": "stream",
     "text": [
      "0.0    19075\n",
      "1.0      146\n",
      "Name: waterfront, dtype: int64\n"
     ]
    }
   ],
   "source": [
    "# analyze waterfront column\n",
    "print(df['waterfront'].value_counts())"
   ]
  },
  {
   "cell_type": "code",
   "execution_count": 65,
   "metadata": {},
   "outputs": [
    {
     "name": "stdout",
     "output_type": "stream",
     "text": [
      "date              0\n",
      "price             0\n",
      "bedrooms          0\n",
      "bathrooms         0\n",
      "sqft_living       0\n",
      "sqft_lot          0\n",
      "floors            0\n",
      "waterfront        0\n",
      "view             57\n",
      "condition         0\n",
      "grade             0\n",
      "sqft_above        0\n",
      "sqft_basement     0\n",
      "yr_built          0\n",
      "yr_renovated      0\n",
      "zipcode           0\n",
      "lat               0\n",
      "long              0\n",
      "sqft_living15     0\n",
      "sqft_lot15        0\n",
      "dtype: int64\n"
     ]
    }
   ],
   "source": [
    "# values are either yes (1.0) or no (0.0)\n",
    "# mean, median, or mode would not be ideal measurements here\n",
    "# it is best to drop the rows\n",
    "df = df[df['waterfront'].notna()]\n",
    "print(df.isnull().sum())"
   ]
  },
  {
   "cell_type": "code",
   "execution_count": 66,
   "metadata": {},
   "outputs": [
    {
     "name": "stdout",
     "output_type": "stream",
     "text": [
      "Percentage of Null yr_renovated Values: 0.0\n",
      "Number of Unique yr_renovated Values: 70\n",
      "Number of Unique Values: 0.0       18569\n",
      "2014.0       64\n",
      "2013.0       29\n",
      "2005.0       27\n",
      "2000.0       25\n",
      "          ...  \n",
      "1953.0        1\n",
      "1950.0        1\n",
      "1954.0        1\n",
      "1959.0        1\n",
      "1971.0        1\n",
      "Name: yr_renovated, Length: 70, dtype: int64\n"
     ]
    }
   ],
   "source": [
    "# how much is missing from year renovated - 18%\n",
    "# printed most common values so that we know what to replace the nulls with\n",
    "print('Percentage of Null yr_renovated Values:', len(df[df.yr_renovated.isna()])/ len(df))\n",
    "print('Number of Unique yr_renovated Values:', df.yr_renovated.nunique())\n",
    "print('Number of Unique Values:', df.yr_renovated.value_counts())"
   ]
  },
  {
   "cell_type": "code",
   "execution_count": 67,
   "metadata": {},
   "outputs": [],
   "source": [
    "# 0.0 is the mode\n",
    "# a number equals the year the home was renovated and 0.0 means the home was never renovated\n",
    "# we should then also assume that the blank cells mean that these homes were never renovated\n",
    "# convert nan to 0.0\n",
    "df.loc[df.yr_renovated.isna(), 'yr_renovated'] = 0.0"
   ]
  },
  {
   "cell_type": "code",
   "execution_count": 68,
   "metadata": {},
   "outputs": [
    {
     "data": {
      "text/plain": [
       "0.0       18569\n",
       "2014.0       64\n",
       "2013.0       29\n",
       "2005.0       27\n",
       "2000.0       25\n",
       "          ...  \n",
       "1953.0        1\n",
       "1950.0        1\n",
       "1954.0        1\n",
       "1959.0        1\n",
       "1971.0        1\n",
       "Name: yr_renovated, Length: 70, dtype: int64"
      ]
     },
     "execution_count": 68,
     "metadata": {},
     "output_type": "execute_result"
    }
   ],
   "source": [
    "# see results\n",
    "df.yr_renovated.value_counts()"
   ]
  },
  {
   "cell_type": "code",
   "execution_count": 69,
   "metadata": {},
   "outputs": [
    {
     "name": "stdout",
     "output_type": "stream",
     "text": [
      "0.0    17312\n",
      "2.0      836\n",
      "3.0      435\n",
      "1.0      291\n",
      "4.0      290\n",
      "Name: view, dtype: int64\n"
     ]
    }
   ],
   "source": [
    "# analyze view column\n",
    "print(df['view'].value_counts())"
   ]
  },
  {
   "cell_type": "code",
   "execution_count": 70,
   "metadata": {},
   "outputs": [
    {
     "name": "stdout",
     "output_type": "stream",
     "text": [
      "Viewed Mean:  0.23105823418910457\n",
      "Viewed Median:  0.0\n",
      "Viewed Mode:  0    0.0\n",
      "dtype: float64\n"
     ]
    }
   ],
   "source": [
    "views_mean = df['view'].mean()\n",
    "views_median = df['view'].median()\n",
    "views_mode = df['view'].mode()\n",
    "print('Viewed Mean: ', views_mean)\n",
    "print('Viewed Median: ', views_median)\n",
    "print('Viewed Mode: ', views_mode)"
   ]
  },
  {
   "cell_type": "code",
   "execution_count": 71,
   "metadata": {},
   "outputs": [
    {
     "name": "stdout",
     "output_type": "stream",
     "text": [
      "0.0    17369\n",
      "2.0      836\n",
      "3.0      435\n",
      "1.0      291\n",
      "4.0      290\n",
      "Name: view, dtype: int64\n"
     ]
    }
   ],
   "source": [
    "# both the median and mode are 0.0\n",
    "# the mean rounded to the nearest whole number is also 0.0\n",
    "# it is best to assume the cells were left blank because they were not viewed\n",
    "# the blank num_views cells should be changed to 0.0\n",
    "df['view'] = df['view'].fillna(0.0)\n",
    "print(df['view'].value_counts())"
   ]
  },
  {
   "cell_type": "code",
   "execution_count": 72,
   "metadata": {},
   "outputs": [
    {
     "name": "stdout",
     "output_type": "stream",
     "text": [
      "date             0\n",
      "price            0\n",
      "bedrooms         0\n",
      "bathrooms        0\n",
      "sqft_living      0\n",
      "sqft_lot         0\n",
      "floors           0\n",
      "waterfront       0\n",
      "view             0\n",
      "condition        0\n",
      "grade            0\n",
      "sqft_above       0\n",
      "sqft_basement    0\n",
      "yr_built         0\n",
      "yr_renovated     0\n",
      "zipcode          0\n",
      "lat              0\n",
      "long             0\n",
      "sqft_living15    0\n",
      "sqft_lot15       0\n",
      "dtype: int64\n"
     ]
    }
   ],
   "source": [
    "print(df.isnull().sum())"
   ]
  },
  {
   "cell_type": "code",
   "execution_count": 73,
   "metadata": {},
   "outputs": [
    {
     "name": "stdout",
     "output_type": "stream",
     "text": [
      "<class 'pandas.core.frame.DataFrame'>\n",
      "Int64Index: 19221 entries, 6414100192 to 1523300157\n",
      "Data columns (total 20 columns):\n",
      " #   Column         Non-Null Count  Dtype  \n",
      "---  ------         --------------  -----  \n",
      " 0   date           19221 non-null  object \n",
      " 1   price          19221 non-null  float64\n",
      " 2   bedrooms       19221 non-null  int64  \n",
      " 3   bathrooms      19221 non-null  float64\n",
      " 4   sqft_living    19221 non-null  int64  \n",
      " 5   sqft_lot       19221 non-null  int64  \n",
      " 6   floors         19221 non-null  float64\n",
      " 7   waterfront     19221 non-null  float64\n",
      " 8   view           19221 non-null  float64\n",
      " 9   condition      19221 non-null  int64  \n",
      " 10  grade          19221 non-null  int64  \n",
      " 11  sqft_above     19221 non-null  int64  \n",
      " 12  sqft_basement  19221 non-null  float64\n",
      " 13  yr_built       19221 non-null  int64  \n",
      " 14  yr_renovated   19221 non-null  float64\n",
      " 15  zipcode        19221 non-null  int64  \n",
      " 16  lat            19221 non-null  float64\n",
      " 17  long           19221 non-null  float64\n",
      " 18  sqft_living15  19221 non-null  int64  \n",
      " 19  sqft_lot15     19221 non-null  int64  \n",
      "dtypes: float64(9), int64(10), object(1)\n",
      "memory usage: 3.1+ MB\n"
     ]
    }
   ],
   "source": [
    "# see if all null values are filled\n",
    "df.info()"
   ]
  },
  {
   "cell_type": "code",
   "execution_count": 74,
   "metadata": {},
   "outputs": [],
   "source": [
    "# Converting date to datetime\n",
    "df.date = pd.to_datetime(df.date)"
   ]
  },
  {
   "cell_type": "markdown",
   "metadata": {},
   "source": [
    "# EDA with Visualizations"
   ]
  },
  {
   "cell_type": "code",
   "execution_count": 75,
   "metadata": {},
   "outputs": [
    {
     "data": {
      "image/png": "[encoded data removed]",
      "text/plain": [
       "<Figure size 1440x1440 with 20 Axes>"
      ]
     },
     "metadata": {},
     "output_type": "display_data"
    }
   ],
   "source": [
    "df.hist(figsize=(20,20));"
   ]
  },
  {
   "cell_type": "code",
   "execution_count": 49,
   "metadata": {},
   "outputs": [],
   "source": [
    "# from the skews, we can see there are distributions that appear to be linear, with some outliers\n",
    "# they are grade, num_bathrooms, num_bedrooms, sqft_above_ground, sqft_home, sqft_home_15neighbors, lat, and long\n",
    "# there are also non-linear distributions that are categorical data, which we will keep for now"
   ]
  },
  {
   "cell_type": "markdown",
   "metadata": {},
   "source": [
    "## Independent Variable - Price"
   ]
  },
  {
   "cell_type": "code",
   "execution_count": 50,
   "metadata": {},
   "outputs": [],
   "source": [
    "# our independant variable will be price\n",
    "# the first thing we need to do is get rid of the ouliers\n",
    "# import libraries to get statistics\n",
    "from numpy import mean\n",
    "from numpy import std"
   ]
  },
  {
   "cell_type": "code",
   "execution_count": 52,
   "metadata": {},
   "outputs": [
    {
     "data": {
      "text/plain": [
       "count      19221.0\n",
       "mean      541640.0\n",
       "std       372248.0\n",
       "min        78000.0\n",
       "25%       322000.0\n",
       "50%       450000.0\n",
       "75%       644000.0\n",
       "max      7700000.0\n",
       "Name: price, dtype: float64"
      ]
     },
     "execution_count": 52,
     "metadata": {},
     "output_type": "execute_result"
    }
   ],
   "source": [
    "# .round() takes it out of scientific notation\n",
    "df['price'].describe().round()"
   ]
  },
  {
   "cell_type": "code",
   "execution_count": 53,
   "metadata": {},
   "outputs": [
    {
     "data": {
      "image/png": "[encoded data removed]",
      "text/plain": [
       "<Figure size 576x396 with 1 Axes>"
      ]
     },
     "metadata": {},
     "output_type": "display_data"
    }
   ],
   "source": [
    "# identify outliers\n",
    "plt.title('Before Removing Outliers')\n",
    "sns.distplot(df['price'])\n",
    "plt.show();"
   ]
  },
  {
   "cell_type": "code",
   "execution_count": 54,
   "metadata": {},
   "outputs": [
    {
     "data": {
      "text/plain": [
       "975000.0"
      ]
     },
     "execution_count": 54,
     "metadata": {},
     "output_type": "execute_result"
    }
   ],
   "source": [
    "cut_off = df['price'].quantile(.925)\n",
    "cut_off"
   ]
  },
  {
   "cell_type": "code",
   "execution_count": 55,
   "metadata": {},
   "outputs": [
    {
     "data": {
      "text/plain": [
       "[1230000.0,\n",
       " 2000000.0,\n",
       " 1350000.0,\n",
       " 1330000.0,\n",
       " 1040000.0,\n",
       " 1100000.0,\n",
       " 1090000.0,\n",
       " 1450000.0,\n",
       " 2250000.0,\n",
       " 1100000.0,\n",
       " 1070000.0,\n",
       " 1030000.0,\n",
       " 2400000.0,\n",
       " 2900000.0,\n",
       " 1370000.0,\n",
       " 2050000.0,\n",
       " 3080000.0,\n",
       " 2380000.0,\n",
       " 1380000.0,\n",
       " 1400000.0,\n",
       " 1350000.0,\n",
       " 1550000.0,\n",
       " 1300000.0,\n",
       " 988000.0,\n",
       " 1000000.0,\n",
       " 1030000.0,\n",
       " 1450000.0,\n",
       " 1050000.0,\n",
       " 1200000.0,\n",
       " 1150000.0,\n",
       " 1390000.0,\n",
       " 1070000.0,\n",
       " 1280000.0,\n",
       " 1200000.0,\n",
       " 1490000.0,\n",
       " 1100000.0,\n",
       " 2250000.0,\n",
       " 2130000.0,\n",
       " 1450000.0,\n",
       " 1220000.0,\n",
       " 1040000.0,\n",
       " 1120000.0,\n",
       " 1000000.0,\n",
       " 3070000.0,\n",
       " 1250000.0,\n",
       " 1150000.0,\n",
       " 1480000.0,\n",
       " 1580000.0,\n",
       " 985000.0,\n",
       " 1300000.0,\n",
       " 1310000.0,\n",
       " 2250000.0,\n",
       " 1360000.0,\n",
       " 1100000.0,\n",
       " 1220000.0,\n",
       " 2400000.0,\n",
       " 1100000.0,\n",
       " 980000.0,\n",
       " 990000.0,\n",
       " 1200000.0,\n",
       " 1320000.0,\n",
       " 1030000.0,\n",
       " 2450000.0,\n",
       " 980000.0,\n",
       " 1050000.0,\n",
       " 1040000.0,\n",
       " 1240000.0,\n",
       " 986000.0,\n",
       " 1570000.0,\n",
       " 1130000.0,\n",
       " 1200000.0,\n",
       " 1280000.0,\n",
       " 1960000.0,\n",
       " 1750000.0,\n",
       " 5110000.0,\n",
       " 1150000.0,\n",
       " 1880000.0,\n",
       " 1230000.0,\n",
       " 995000.0,\n",
       " 2300000.0,\n",
       " 2260000.0,\n",
       " 5300000.0,\n",
       " 1200000.0,\n",
       " 1080000.0,\n",
       " 2200000.0,\n",
       " 1060000.0,\n",
       " 1180000.0,\n",
       " 1700000.0,\n",
       " 1400000.0,\n",
       " 2540000.0,\n",
       " 1360000.0,\n",
       " 1230000.0,\n",
       " 5350000.0,\n",
       " 1330000.0,\n",
       " 1220000.0,\n",
       " 1100000.0,\n",
       " 1250000.0,\n",
       " 1300000.0,\n",
       " 1180000.0,\n",
       " 1380000.0,\n",
       " 1050000.0,\n",
       " 1200000.0,\n",
       " 2250000.0,\n",
       " 1230000.0,\n",
       " 1270000.0,\n",
       " 1680000.0,\n",
       " 1180000.0,\n",
       " 2350000.0,\n",
       " 1140000.0,\n",
       " 1430000.0,\n",
       " 1530000.0,\n",
       " 1100000.0,\n",
       " 1570000.0,\n",
       " 1130000.0,\n",
       " 1580000.0,\n",
       " 1050000.0,\n",
       " 1250000.0,\n",
       " 998000.0,\n",
       " 1720000.0,\n",
       " 2400000.0,\n",
       " 1600000.0,\n",
       " 1020000.0,\n",
       " 2530000.0,\n",
       " 1570000.0,\n",
       " 1200000.0,\n",
       " 1250000.0,\n",
       " 3850000.0,\n",
       " 1200000.0,\n",
       " 1030000.0,\n",
       " 1640000.0,\n",
       " 989000.0,\n",
       " 1330000.0,\n",
       " 1740000.0,\n",
       " 1700000.0,\n",
       " 1010000.0,\n",
       " 1650000.0,\n",
       " 1550000.0,\n",
       " 1680000.0,\n",
       " 1050000.0,\n",
       " 1760000.0,\n",
       " 1000000.0,\n",
       " 990000.0,\n",
       " 1340000.0,\n",
       " 2750000.0,\n",
       " 1190000.0,\n",
       " 993000.0,\n",
       " 1400000.0,\n",
       " 1370000.0,\n",
       " 1190000.0,\n",
       " 1100000.0,\n",
       " 1540000.0,\n",
       " 1020000.0,\n",
       " 992000.0,\n",
       " 1600000.0,\n",
       " 985000.0,\n",
       " 3280000.0,\n",
       " 1130000.0,\n",
       " 1600000.0,\n",
       " 1220000.0,\n",
       " 1700000.0,\n",
       " 1870000.0,\n",
       " 1220000.0,\n",
       " 1010000.0,\n",
       " 1600000.0,\n",
       " 1620000.0,\n",
       " 1070000.0,\n",
       " 1170000.0,\n",
       " 1600000.0,\n",
       " 4500000.0,\n",
       " 1270000.0,\n",
       " 980000.0,\n",
       " 1000000.0,\n",
       " 1380000.0,\n",
       " 1110000.0,\n",
       " 1000000.0,\n",
       " 1150000.0,\n",
       " 1510000.0,\n",
       " 1610000.0,\n",
       " 1290000.0,\n",
       " 1390000.0,\n",
       " 1320000.0,\n",
       " 1400000.0,\n",
       " 1840000.0,\n",
       " 3600000.0,\n",
       " 1050000.0,\n",
       " 1250000.0,\n",
       " 3000000.0,\n",
       " 1130000.0,\n",
       " 1010000.0,\n",
       " 1200000.0,\n",
       " 999000.0,\n",
       " 2950000.0,\n",
       " 991700.0,\n",
       " 1330000.0,\n",
       " 2530000.0,\n",
       " 1800000.0,\n",
       " 985000.0,\n",
       " 1130000.0,\n",
       " 1500000.0,\n",
       " 1130000.0,\n",
       " 1320000.0,\n",
       " 1270000.0,\n",
       " 990000.0,\n",
       " 1510000.0,\n",
       " 1900000.0,\n",
       " 1140000.0,\n",
       " 1900000.0,\n",
       " 1000000.0,\n",
       " 1210000.0,\n",
       " 1100000.0,\n",
       " 1900000.0,\n",
       " 1310000.0,\n",
       " 1970000.0,\n",
       " 1000000.0,\n",
       " 2080000.0,\n",
       " 1100000.0,\n",
       " 2540000.0,\n",
       " 1570000.0,\n",
       " 1100000.0,\n",
       " 1280000.0,\n",
       " 1230000.0,\n",
       " 1290000.0,\n",
       " 1230000.0,\n",
       " 1170000.0,\n",
       " 1230000.0,\n",
       " 1080000.0,\n",
       " 980000.0,\n",
       " 2100000.0,\n",
       " 1580000.0,\n",
       " 1020000.0,\n",
       " 1010000.0,\n",
       " 1600000.0,\n",
       " 1290000.0,\n",
       " 1440000.0,\n",
       " 1350000.0,\n",
       " 1240000.0,\n",
       " 1060000.0,\n",
       " 2450000.0,\n",
       " 2450000.0,\n",
       " 1910000.0,\n",
       " 1740000.0,\n",
       " 1650000.0,\n",
       " 2890000.0,\n",
       " 1580000.0,\n",
       " 1080000.0,\n",
       " 2200000.0,\n",
       " 2950000.0,\n",
       " 1230000.0,\n",
       " 978500.0,\n",
       " 1420000.0,\n",
       " 7060000.0,\n",
       " 1210000.0,\n",
       " 1500000.0,\n",
       " 1380000.0,\n",
       " 998000.0,\n",
       " 1020000.0,\n",
       " 1150000.0,\n",
       " 1500000.0,\n",
       " 2400000.0,\n",
       " 1390000.0,\n",
       " 1010000.0,\n",
       " 1350000.0,\n",
       " 2500000.0,\n",
       " 2150000.0,\n",
       " 979000.0,\n",
       " 1060000.0,\n",
       " 1040000.0,\n",
       " 1210000.0,\n",
       " 4000000.0,\n",
       " 1190000.0,\n",
       " 1600000.0,\n",
       " 2880000.0,\n",
       " 1050000.0,\n",
       " 1290000.0,\n",
       " 1880000.0,\n",
       " 1570000.0,\n",
       " 1010000.0,\n",
       " 1300000.0,\n",
       " 1280000.0,\n",
       " 1160000.0,\n",
       " 1190000.0,\n",
       " 1080000.0,\n",
       " 1400000.0,\n",
       " 2130000.0,\n",
       " 978000.0,\n",
       " 1140000.0,\n",
       " 1150000.0,\n",
       " 1050000.0,\n",
       " 1150000.0,\n",
       " 1090000.0,\n",
       " 2050000.0,\n",
       " 1710000.0,\n",
       " 5570000.0,\n",
       " 1150000.0,\n",
       " 1670000.0,\n",
       " 1100000.0,\n",
       " 1250000.0,\n",
       " 1050000.0,\n",
       " 2000000.0,\n",
       " 1240000.0,\n",
       " 1440000.0,\n",
       " 1260000.0,\n",
       " 1050000.0,\n",
       " 1200000.0,\n",
       " 1130000.0,\n",
       " 1160000.0,\n",
       " 1020000.0,\n",
       " 2490000.0,\n",
       " 1040000.0,\n",
       " 1350000.0,\n",
       " 1130000.0,\n",
       " 1080000.0,\n",
       " 1200000.0,\n",
       " 1130000.0,\n",
       " 1490000.0,\n",
       " 1470000.0,\n",
       " 1850000.0,\n",
       " 2480000.0,\n",
       " 988830.0,\n",
       " 2050000.0,\n",
       " 1150000.0,\n",
       " 1900000.0,\n",
       " 1940000.0,\n",
       " 1050000.0,\n",
       " 1400000.0,\n",
       " 1000000.0,\n",
       " 1000000.0,\n",
       " 1580000.0,\n",
       " 1030000.0,\n",
       " 1060000.0,\n",
       " 1170000.0,\n",
       " 1200000.0,\n",
       " 1390000.0,\n",
       " 1300000.0,\n",
       " 1100000.0,\n",
       " 1150000.0,\n",
       " 1310000.0,\n",
       " 994900.0,\n",
       " 1300000.0,\n",
       " 1500000.0,\n",
       " 1160000.0,\n",
       " 1050000.0,\n",
       " 997000.0,\n",
       " 1040000.0,\n",
       " 1320000.0,\n",
       " 1160000.0,\n",
       " 1070000.0,\n",
       " 1120000.0,\n",
       " 1740000.0,\n",
       " 2850000.0,\n",
       " 1780000.0,\n",
       " 985000.0,\n",
       " 1090000.0,\n",
       " 1150000.0,\n",
       " 1880000.0,\n",
       " 1690000.0,\n",
       " 2400000.0,\n",
       " 980000.0,\n",
       " 1600000.0,\n",
       " 1200000.0,\n",
       " 1160000.0,\n",
       " 1420000.0,\n",
       " 998000.0,\n",
       " 1470000.0,\n",
       " 1000000.0,\n",
       " 1000000.0,\n",
       " 2470000.0,\n",
       " 1100000.0,\n",
       " 990400.0,\n",
       " 1620000.0,\n",
       " 1090000.0,\n",
       " 1850000.0,\n",
       " 1150000.0,\n",
       " 1500000.0,\n",
       " 1100000.0,\n",
       " 1460000.0,\n",
       " 1010000.0,\n",
       " 1700000.0,\n",
       " 1800000.0,\n",
       " 980000.0,\n",
       " 1530000.0,\n",
       " 1730000.0,\n",
       " 3420000.0,\n",
       " 1200000.0,\n",
       " 1030000.0,\n",
       " 1200000.0,\n",
       " 1480000.0,\n",
       " 1560000.0,\n",
       " 1110000.0,\n",
       " 2730000.0,\n",
       " 1050000.0,\n",
       " 1330000.0,\n",
       " 1030000.0,\n",
       " 2390000.0,\n",
       " 2200000.0,\n",
       " 1100000.0,\n",
       " 1280000.0,\n",
       " 1000000.0,\n",
       " 1150000.0,\n",
       " 1240000.0,\n",
       " 1450000.0,\n",
       " 1060000.0,\n",
       " 1040000.0,\n",
       " 2400000.0,\n",
       " 1030000.0,\n",
       " 2200000.0,\n",
       " 994000.0,\n",
       " 1050000.0,\n",
       " 1200000.0,\n",
       " 1450000.0,\n",
       " 1970000.0,\n",
       " 1450000.0,\n",
       " 1440000.0,\n",
       " 1580000.0,\n",
       " 2900000.0,\n",
       " 998160.0,\n",
       " 1290000.0,\n",
       " 1150000.0,\n",
       " 1340000.0,\n",
       " 1940000.0,\n",
       " 3650000.0,\n",
       " 1020000.0,\n",
       " 1240000.0,\n",
       " 1340000.0,\n",
       " 1350000.0,\n",
       " 1340000.0,\n",
       " 1350000.0,\n",
       " 1250000.0,\n",
       " 1040000.0,\n",
       " 995000.0,\n",
       " 1100000.0,\n",
       " 1520000.0,\n",
       " 2000000.0,\n",
       " 2650000.0,\n",
       " 990000.0,\n",
       " 1880000.0,\n",
       " 1040000.0,\n",
       " 1190000.0,\n",
       " 1340000.0,\n",
       " 2700000.0,\n",
       " 1260000.0,\n",
       " 2250000.0,\n",
       " 1900000.0,\n",
       " 1430000.0,\n",
       " 1000000.0,\n",
       " 1440000.0,\n",
       " 1060000.0,\n",
       " 1560000.0,\n",
       " 1370000.0,\n",
       " 985000.0,\n",
       " 1490000.0,\n",
       " 1400000.0,\n",
       " 1580000.0,\n",
       " 2180000.0,\n",
       " 1390000.0,\n",
       " 3800000.0,\n",
       " 1500000.0,\n",
       " 1040000.0,\n",
       " 990000.0,\n",
       " 1740000.0,\n",
       " 1430000.0,\n",
       " 1260000.0,\n",
       " 3200000.0,\n",
       " 1300000.0,\n",
       " 995000.0,\n",
       " 1490000.0,\n",
       " 1400000.0,\n",
       " 7700000.0,\n",
       " 1450000.0,\n",
       " 1200000.0,\n",
       " 1160000.0,\n",
       " 2500000.0,\n",
       " 3100000.0,\n",
       " 1250000.0,\n",
       " 1540000.0,\n",
       " 1530000.0,\n",
       " 1150000.0,\n",
       " 1780000.0,\n",
       " 1180000.0,\n",
       " 1980000.0,\n",
       " 1390000.0,\n",
       " 1250000.0,\n",
       " 2580000.0,\n",
       " 1600000.0,\n",
       " 1310000.0,\n",
       " 1300000.0,\n",
       " 1170000.0,\n",
       " 1030000.0,\n",
       " 1610000.0,\n",
       " 1400000.0,\n",
       " 2500000.0,\n",
       " 1320000.0,\n",
       " 1050000.0,\n",
       " 1700000.0,\n",
       " 1150000.0,\n",
       " 1450000.0,\n",
       " 2540000.0,\n",
       " 1270000.0,\n",
       " 1470000.0,\n",
       " 1110000.0,\n",
       " 1130000.0,\n",
       " 1000000.0,\n",
       " 1250000.0,\n",
       " 978000.0,\n",
       " 1040000.0,\n",
       " 1450000.0,\n",
       " 1070000.0,\n",
       " 1650000.0,\n",
       " 1210000.0,\n",
       " 1200000.0,\n",
       " 1000000.0,\n",
       " 1150000.0,\n",
       " 1900000.0,\n",
       " 3200000.0,\n",
       " 1820000.0,\n",
       " 980000.0,\n",
       " 1290000.0,\n",
       " 3400000.0,\n",
       " 1200000.0,\n",
       " 1850000.0,\n",
       " 1250000.0,\n",
       " 1480000.0,\n",
       " 4670000.0,\n",
       " 1510000.0,\n",
       " 1250000.0,\n",
       " 1450000.0,\n",
       " 1630000.0,\n",
       " 1000000.0,\n",
       " 2450000.0,\n",
       " 2190000.0,\n",
       " 1320000.0,\n",
       " 1220000.0,\n",
       " 1660000.0,\n",
       " 1250000.0,\n",
       " 1010000.0,\n",
       " 1110000.0,\n",
       " 1300000.0,\n",
       " 1250000.0,\n",
       " 1290000.0,\n",
       " 1200000.0,\n",
       " 999000.0,\n",
       " 1240000.0,\n",
       " 1210000.0,\n",
       " 1150000.0,\n",
       " 1010000.0,\n",
       " 4490000.0,\n",
       " 1440000.0,\n",
       " 995000.0,\n",
       " 1090000.0,\n",
       " 1490000.0,\n",
       " 1200000.0,\n",
       " 1180000.0,\n",
       " 1800000.0,\n",
       " 1250000.0,\n",
       " 1000000.0,\n",
       " 1050000.0,\n",
       " 1370000.0,\n",
       " 1100000.0,\n",
       " 1010000.0,\n",
       " 1010000.0,\n",
       " 1410000.0,\n",
       " 1530000.0,\n",
       " 1330000.0,\n",
       " 998000.0,\n",
       " 1070000.0,\n",
       " 1910000.0,\n",
       " 1070000.0,\n",
       " 1100000.0,\n",
       " 1050000.0,\n",
       " 985000.0,\n",
       " 1350000.0,\n",
       " 1210000.0,\n",
       " 1330000.0,\n",
       " 1360000.0,\n",
       " 1400000.0,\n",
       " 1230000.0,\n",
       " 1960000.0,\n",
       " 1270000.0,\n",
       " 1500000.0,\n",
       " 1070000.0,\n",
       " 1100000.0,\n",
       " 1120000.0,\n",
       " 1190000.0,\n",
       " 1680000.0,\n",
       " 6890000.0,\n",
       " 1680000.0,\n",
       " 1080000.0,\n",
       " 2580000.0,\n",
       " 1360000.0,\n",
       " 1340000.0,\n",
       " 1100000.0,\n",
       " 1570000.0,\n",
       " 1050000.0,\n",
       " 1090000.0,\n",
       " 1010000.0,\n",
       " 1250000.0,\n",
       " 1700000.0,\n",
       " 2380000.0,\n",
       " 1280000.0,\n",
       " 1350000.0,\n",
       " 1160000.0,\n",
       " 1540000.0,\n",
       " 1780000.0,\n",
       " 1160000.0,\n",
       " 1760000.0,\n",
       " 1570000.0,\n",
       " 1480000.0,\n",
       " 1090000.0,\n",
       " 1400000.0,\n",
       " 1180000.0,\n",
       " 1700000.0,\n",
       " 1140000.0,\n",
       " 1390000.0,\n",
       " 1220000.0,\n",
       " 1250000.0,\n",
       " 1650000.0,\n",
       " 999950.0,\n",
       " 1080000.0,\n",
       " 1100000.0,\n",
       " 1180000.0,\n",
       " 1000000.0,\n",
       " 1730000.0,\n",
       " 1140000.0,\n",
       " 1100000.0,\n",
       " 1740000.0,\n",
       " 1320000.0,\n",
       " 1200000.0,\n",
       " 1280000.0,\n",
       " 1150000.0,\n",
       " 1050000.0,\n",
       " 1700000.0,\n",
       " 1100000.0,\n",
       " 1230000.0,\n",
       " 1900000.0,\n",
       " 1330000.0,\n",
       " 1370000.0,\n",
       " 985000.0,\n",
       " 1400000.0,\n",
       " 1360000.0,\n",
       " 2700000.0,\n",
       " 1250000.0,\n",
       " 1300000.0,\n",
       " 1030000.0,\n",
       " 1200000.0,\n",
       " 2980000.0,\n",
       " 1230000.0,\n",
       " 1400000.0,\n",
       " 1380000.0,\n",
       " 1200000.0,\n",
       " 1080000.0,\n",
       " 3400000.0,\n",
       " 1150000.0,\n",
       " 3120000.0,\n",
       " 2000000.0,\n",
       " 1050000.0,\n",
       " 1350000.0,\n",
       " 1500000.0,\n",
       " 1230000.0,\n",
       " 1700000.0,\n",
       " 1570000.0,\n",
       " 1700000.0,\n",
       " 1170000.0,\n",
       " 1060000.0,\n",
       " 1150000.0,\n",
       " 995000.0,\n",
       " 1010000.0,\n",
       " 1070000.0,\n",
       " 1330000.0,\n",
       " 1040000.0,\n",
       " 1140000.0,\n",
       " 1310000.0,\n",
       " 1050000.0,\n",
       " 976000.0,\n",
       " 1690000.0,\n",
       " 1580000.0,\n",
       " 995000.0,\n",
       " 1250000.0,\n",
       " 1770000.0,\n",
       " 1010000.0,\n",
       " 1580000.0,\n",
       " 1610000.0,\n",
       " 1650000.0,\n",
       " 1250000.0,\n",
       " 1560000.0,\n",
       " 1050000.0,\n",
       " 1570000.0,\n",
       " 1130000.0,\n",
       " 1020000.0,\n",
       " 1380000.0,\n",
       " 998500.0,\n",
       " 1130000.0,\n",
       " 1230000.0,\n",
       " 1120000.0,\n",
       " 998800.0,\n",
       " 1000000.0,\n",
       " 1660000.0,\n",
       " 1820000.0,\n",
       " 1110000.0,\n",
       " 1180000.0,\n",
       " 1070000.0,\n",
       " 1380000.0,\n",
       " 1230000.0,\n",
       " 1450000.0,\n",
       " 2560000.0,\n",
       " 1400000.0,\n",
       " 1700000.0,\n",
       " 3000000.0,\n",
       " 1600000.0,\n",
       " 1400000.0,\n",
       " 1080000.0,\n",
       " 2100000.0,\n",
       " 1800000.0,\n",
       " 1050000.0,\n",
       " 1080000.0,\n",
       " 1160000.0,\n",
       " 1170000.0,\n",
       " 1710000.0,\n",
       " 2300000.0,\n",
       " 978000.0,\n",
       " 1300000.0,\n",
       " 1130000.0,\n",
       " 2750000.0,\n",
       " 1180000.0,\n",
       " 1130000.0,\n",
       " 1330000.0,\n",
       " 1210000.0,\n",
       " 1750000.0,\n",
       " 1140000.0,\n",
       " 1190000.0,\n",
       " 1200000.0,\n",
       " 1110000.0,\n",
       " 1300000.0,\n",
       " 2800000.0,\n",
       " 1250000.0,\n",
       " 1730000.0,\n",
       " 1420000.0,\n",
       " 1140000.0,\n",
       " 1550000.0,\n",
       " 1080000.0,\n",
       " 1400000.0,\n",
       " 1370000.0,\n",
       " 1280000.0,\n",
       " 995000.0,\n",
       " 1580000.0,\n",
       " 2200000.0,\n",
       " 1250000.0,\n",
       " 1240000.0,\n",
       " 1850000.0,\n",
       " 1280000.0,\n",
       " 1790000.0,\n",
       " 1600000.0,\n",
       " 1620000.0,\n",
       " 1480000.0,\n",
       " 1950000.0,\n",
       " 1400000.0,\n",
       " 1620000.0,\n",
       " 1290000.0,\n",
       " 1440000.0,\n",
       " 1130000.0,\n",
       " 1030000.0,\n",
       " 1150000.0,\n",
       " 2580000.0,\n",
       " 3000000.0,\n",
       " 1010000.0,\n",
       " 980000.0,\n",
       " 1400000.0,\n",
       " 1300000.0,\n",
       " 1500000.0,\n",
       " 1100000.0,\n",
       " 1260000.0,\n",
       " 1060000.0,\n",
       " 1200000.0,\n",
       " 1110000.0,\n",
       " 1600000.0,\n",
       " 1430000.0,\n",
       " 1110000.0,\n",
       " 2140000.0,\n",
       " 1670000.0,\n",
       " 1020000.0,\n",
       " 1300000.0,\n",
       " 1190000.0,\n",
       " 1450000.0,\n",
       " 1460000.0,\n",
       " 1310000.0,\n",
       " 994000.0,\n",
       " 1200000.0,\n",
       " 1960000.0,\n",
       " 1650000.0,\n",
       " 1710000.0,\n",
       " 1190000.0,\n",
       " 1340000.0,\n",
       " 1000000.0,\n",
       " 1550000.0,\n",
       " 4210000.0,\n",
       " 979500.0,\n",
       " 1290000.0,\n",
       " 1170000.0,\n",
       " 1070000.0,\n",
       " 1900000.0,\n",
       " 1890000.0,\n",
       " 1030000.0,\n",
       " 1090000.0,\n",
       " 990000.0,\n",
       " 1960000.0,\n",
       " 1080000.0,\n",
       " 1300000.0,\n",
       " 2000000.0,\n",
       " 2540000.0,\n",
       " 1850000.0,\n",
       " 1270000.0,\n",
       " 1300000.0,\n",
       " 1100000.0,\n",
       " 1350000.0,\n",
       " 2410000.0,\n",
       " 1150000.0,\n",
       " 2280000.0,\n",
       " 1310000.0,\n",
       " 1750000.0,\n",
       " 1300000.0,\n",
       " 3100000.0,\n",
       " 1610000.0,\n",
       " 1250000.0,\n",
       " 1140000.0,\n",
       " 2300000.0,\n",
       " 998500.0,\n",
       " 1700000.0,\n",
       " 2250000.0,\n",
       " 1140000.0,\n",
       " 1180000.0,\n",
       " 980000.0,\n",
       " 1250000.0,\n",
       " 1250000.0,\n",
       " 1610000.0,\n",
       " 1700000.0,\n",
       " 1010000.0,\n",
       " 1650000.0,\n",
       " 1080000.0,\n",
       " 2550000.0,\n",
       " 1280000.0,\n",
       " 2000000.0,\n",
       " 2000000.0,\n",
       " 1130000.0,\n",
       " 1150000.0,\n",
       " 1580000.0,\n",
       " 1820000.0,\n",
       " 1050000.0,\n",
       " 2420000.0,\n",
       " 1140000.0,\n",
       " 1550000.0,\n",
       " 1170000.0,\n",
       " 1100000.0,\n",
       " 1040000.0,\n",
       " 1050000.0,\n",
       " 1270000.0,\n",
       " 1330000.0,\n",
       " 1650000.0,\n",
       " 1130000.0,\n",
       " 3170000.0,\n",
       " 1080000.0,\n",
       " 1780000.0,\n",
       " 1480000.0,\n",
       " 1000000.0,\n",
       " 1240000.0,\n",
       " 1280000.0,\n",
       " 1760000.0,\n",
       " 1640000.0,\n",
       " 1030000.0,\n",
       " 1900000.0,\n",
       " 2340000.0,\n",
       " 2600000.0,\n",
       " 1160000.0,\n",
       " 1330000.0,\n",
       " 1020000.0,\n",
       " 1710000.0,\n",
       " 1350000.0,\n",
       " 1810000.0,\n",
       " 1000000.0,\n",
       " 1150000.0,\n",
       " 1890000.0,\n",
       " 990000.0,\n",
       " 3400000.0,\n",
       " 1400000.0,\n",
       " 2890000.0,\n",
       " 1680000.0,\n",
       " 1080000.0,\n",
       " 2750000.0,\n",
       " 3300000.0,\n",
       " 1500000.0,\n",
       " 2110000.0,\n",
       " 1100000.0,\n",
       " 2230000.0,\n",
       " 1010000.0,\n",
       " 1340000.0,\n",
       " 1290000.0,\n",
       " 2200000.0,\n",
       " 1630000.0,\n",
       " 1950000.0,\n",
       " 1230000.0,\n",
       " 1100000.0,\n",
       " 1500000.0,\n",
       " 1690000.0,\n",
       " 1800000.0,\n",
       " 1580000.0,\n",
       " 1010000.0,\n",
       " 2200000.0,\n",
       " 998000.0,\n",
       " 999000.0,\n",
       " 1500000.0,\n",
       " 980000.0,\n",
       " 1120000.0,\n",
       " 2400000.0,\n",
       " 1030000.0,\n",
       " 996000.0,\n",
       " 1230000.0,\n",
       " 1260000.0,\n",
       " 1990000.0,\n",
       " 2890000.0,\n",
       " 984000.0,\n",
       " 1000000.0,\n",
       " 2230000.0,\n",
       " 1380000.0,\n",
       " 1480000.0,\n",
       " 1300000.0,\n",
       " 1080000.0,\n",
       " 998000.0,\n",
       " 1160000.0,\n",
       " 1200000.0,\n",
       " 989900.0,\n",
       " 1610000.0,\n",
       " 998000.0,\n",
       " 1260000.0,\n",
       " 1050000.0,\n",
       " 1180000.0,\n",
       " 1900000.0,\n",
       " 1060000.0,\n",
       " 2600000.0,\n",
       " 1070000.0,\n",
       " 1520000.0,\n",
       " 1030000.0,\n",
       " 1040000.0,\n",
       " 989000.0,\n",
       " 1340000.0,\n",
       " 1380000.0,\n",
       " 1500000.0,\n",
       " 1480000.0,\n",
       " 1020000.0,\n",
       " 1430000.0,\n",
       " 1640000.0,\n",
       " 1110000.0,\n",
       " 2450000.0,\n",
       " 1300000.0,\n",
       " 1540000.0,\n",
       " 1080000.0,\n",
       " 1050000.0,\n",
       " 1030000.0,\n",
       " 1210000.0,\n",
       " 1600000.0,\n",
       " 1230000.0,\n",
       " 1770000.0,\n",
       " 2150000.0,\n",
       " 1950000.0,\n",
       " 1760000.0,\n",
       " 2200000.0,\n",
       " 1050000.0,\n",
       " 1900000.0,\n",
       " 1300000.0,\n",
       " 1150000.0,\n",
       " 1400000.0,\n",
       " 1090000.0,\n",
       " 1030000.0,\n",
       " 1150000.0,\n",
       " 1400000.0,\n",
       " 2300000.0,\n",
       " 3640000.0,\n",
       " 3070000.0,\n",
       " 1120000.0,\n",
       " 1330000.0,\n",
       " 999000.0,\n",
       " 1310000.0,\n",
       " 1470000.0,\n",
       " 1040000.0,\n",
       " 1050000.0,\n",
       " 1220000.0,\n",
       " 990000.0,\n",
       " 1650000.0,\n",
       " 1310000.0,\n",
       " 1000000.0,\n",
       " 1220000.0,\n",
       " 3200000.0,\n",
       " 1080000.0,\n",
       " 1800000.0,\n",
       " 1190000.0,\n",
       " 1100000.0,\n",
       " 1050000.0,\n",
       " 2300000.0,\n",
       " 1090000.0,\n",
       " 1830000.0,\n",
       " 1010000.0,\n",
       " 1680000.0,\n",
       " 1120000.0,\n",
       " ...]"
      ]
     },
     "execution_count": 55,
     "metadata": {},
     "output_type": "execute_result"
    }
   ],
   "source": [
    "outliers = [x for x in df.price if x > cut_off]\n",
    "outliers"
   ]
  },
  {
   "cell_type": "code",
   "execution_count": 56,
   "metadata": {},
   "outputs": [
    {
     "data": {
      "text/plain": [
       "<matplotlib.axes._subplots.AxesSubplot at 0x1d5f79797c0>"
      ]
     },
     "execution_count": 56,
     "metadata": {},
     "output_type": "execute_result"
    },
    {
     "data": {
      "image/png": "[encoded data removed]",
      "text/plain": [
       "<Figure size 576x396 with 1 Axes>"
      ]
     },
     "metadata": {},
     "output_type": "display_data"
    }
   ],
   "source": [
    "plt.title('Price Dist w/o Outliers')\n",
    "df[df['price']<cut_off]['price'].hist()"
   ]
  },
  {
   "cell_type": "markdown",
   "metadata": {},
   "source": [
    "## Housing Aspects"
   ]
  },
  {
   "cell_type": "markdown",
   "metadata": {},
   "source": [
    "### Grade"
   ]
  },
  {
   "cell_type": "code",
   "execution_count": 80,
   "metadata": {},
   "outputs": [
    {
     "data": {
      "image/png": "[encoded data removed]",
      "text/plain": [
       "<Figure size 576x396 with 1 Axes>"
      ]
     },
     "metadata": {},
     "output_type": "display_data"
    },
    {
     "data": {
      "image/png": "[encoded data removed]",
      "text/plain": [
       "<Figure size 432x216 with 1 Axes>"
      ]
     },
     "metadata": {},
     "output_type": "display_data"
    }
   ],
   "source": [
    "# identify outliers\n",
    "plt.title('Before Removing Outliers')\n",
    "sns.distplot(df['grade'])\n",
    "plt.show();\n",
    "sns.lmplot(x = 'grade', y = 'price', data=df,\n",
    "           height=3, aspect= 2,\n",
    "           line_kws={'color':'black', 'linestyle':':'})\n",
    "plt.show();"
   ]
  },
  {
   "cell_type": "code",
   "execution_count": 77,
   "metadata": {},
   "outputs": [],
   "source": [
    "# data appears to be normally distributed and linear\n",
    "# no need to drop any values"
   ]
  },
  {
   "cell_type": "markdown",
   "metadata": {},
   "source": [
    "### Number of Bathrooms"
   ]
  },
  {
   "cell_type": "code",
   "execution_count": 81,
   "metadata": {},
   "outputs": [
    {
     "data": {
      "image/png": "[encoded data removed]",
      "text/plain": [
       "<Figure size 576x396 with 1 Axes>"
      ]
     },
     "metadata": {},
     "output_type": "display_data"
    }
   ],
   "source": [
    "# identify outliers\n",
    "plt.title('Before Removing Outliers')\n",
    "sns.distplot(df['bathrooms'])\n",
    "plt.show();"
   ]
  },
  {
   "cell_type": "markdown",
   "metadata": {},
   "source": [
    "### Number of Bedrooms"
   ]
  },
  {
   "cell_type": "code",
   "execution_count": 82,
   "metadata": {},
   "outputs": [
    {
     "data": {
      "image/png": "[encoded data removed]",
      "text/plain": [
       "<Figure size 576x396 with 1 Axes>"
      ]
     },
     "metadata": {},
     "output_type": "display_data"
    }
   ],
   "source": [
    "# identify outliers\n",
    "plt.title('Before Removing Outliers')\n",
    "sns.distplot(df['bedrooms'])\n",
    "plt.show();"
   ]
  },
  {
   "cell_type": "markdown",
   "metadata": {},
   "source": [
    "### Square Feet Above Ground"
   ]
  },
  {
   "cell_type": "code",
   "execution_count": 84,
   "metadata": {},
   "outputs": [
    {
     "data": {
      "image/png": "[encoded data removed]",
      "text/plain": [
       "<Figure size 576x396 with 1 Axes>"
      ]
     },
     "metadata": {},
     "output_type": "display_data"
    }
   ],
   "source": [
    "# identify outliers\n",
    "plt.title('Before Removing Outliers')\n",
    "sns.distplot(df['sqft_above'])\n",
    "plt.show();"
   ]
  },
  {
   "cell_type": "markdown",
   "metadata": {},
   "source": [
    "### Square Feet of Home"
   ]
  },
  {
   "cell_type": "code",
   "execution_count": 86,
   "metadata": {},
   "outputs": [
    {
     "data": {
      "image/png": "[encoded data removed]",
      "text/plain": [
       "<Figure size 576x396 with 1 Axes>"
      ]
     },
     "metadata": {},
     "output_type": "display_data"
    }
   ],
   "source": [
    "# identify outliers\n",
    "plt.title('Before Removing Outliers')\n",
    "sns.distplot(df['sqft_living'])\n",
    "plt.show();"
   ]
  },
  {
   "cell_type": "markdown",
   "metadata": {},
   "source": [
    "### Square Feet of Neighbor's Homes"
   ]
  },
  {
   "cell_type": "code",
   "execution_count": 87,
   "metadata": {},
   "outputs": [
    {
     "data": {
      "image/png": "[encoded data removed]",
      "text/plain": [
       "<Figure size 576x396 with 1 Axes>"
      ]
     },
     "metadata": {},
     "output_type": "display_data"
    }
   ],
   "source": [
    "# Identify outliers\n",
    "plt.title('Before Removing Outliers')\n",
    "sns.distplot(df['sqft_living15'])\n",
    "plt.show();"
   ]
  },
  {
   "cell_type": "markdown",
   "metadata": {},
   "source": [
    "### Latitude"
   ]
  },
  {
   "cell_type": "code",
   "execution_count": 88,
   "metadata": {},
   "outputs": [
    {
     "data": {
      "image/png": "[encoded data removed]",
      "text/plain": [
       "<Figure size 576x396 with 1 Axes>"
      ]
     },
     "metadata": {},
     "output_type": "display_data"
    }
   ],
   "source": [
    "# identify outliers\n",
    "plt.title('Before Removing Outliers')\n",
    "sns.distplot(df['lat'])\n",
    "plt.show();"
   ]
  },
  {
   "cell_type": "markdown",
   "metadata": {},
   "source": [
    "### Longitude"
   ]
  },
  {
   "cell_type": "code",
   "execution_count": 89,
   "metadata": {},
   "outputs": [
    {
     "data": {
      "image/png": "[encoded data removed]",
      "text/plain": [
       "<Figure size 576x396 with 1 Axes>"
      ]
     },
     "metadata": {},
     "output_type": "display_data"
    }
   ],
   "source": [
    "# identify outliers\n",
    "plt.title('Before Removing Outliers')\n",
    "sns.distplot(df['long'])\n",
    "plt.show();"
   ]
  },
  {
   "cell_type": "code",
   "execution_count": null,
   "metadata": {},
   "outputs": [],
   "source": []
  },
  {
   "cell_type": "markdown",
   "metadata": {},
   "source": [
    "## Date of Sale"
   ]
  },
  {
   "cell_type": "code",
   "execution_count": 20,
   "metadata": {},
   "outputs": [
    {
     "data": {
      "image/png": "[encoded data removed]",
      "text/plain": [
       "<Figure size 864x288 with 1 Axes>"
      ]
     },
     "metadata": {},
     "output_type": "display_data"
    }
   ],
   "source": [
    "months = ['January','February','March','April','May','June','July','August','September','October','November','December']\n",
    "monthly_sales = []\n",
    "\n",
    "for i in range(1,13):\n",
    "    monthly_sales.append(sum(df.date.dt.month == i))\n",
    "    \n",
    "plt.figure(figsize=(12,4))\n",
    "sns.barplot(months, monthly_sales)\n",
    "plt.title('Sales by month', fontdict={'fontsize': 16})\n",
    "plt.show()"
   ]
  },
  {
   "cell_type": "code",
   "execution_count": 21,
   "metadata": {},
   "outputs": [
    {
     "data": {
      "image/png": "[encoded data removed]",
      "text/plain": [
       "<Figure size 864x288 with 1 Axes>"
      ]
     },
     "metadata": {},
     "output_type": "display_data"
    }
   ],
   "source": [
    "day_of_week = ['Monday','Tuesday','Wednesday','Thursday','Friday','Saturday','Sunday']\n",
    "daily_sales = []\n",
    "\n",
    "for i in range(0,7):\n",
    "    daily_sales.append(sum(df.date.dt.dayofweek == i))\n",
    "\n",
    "plt.figure(figsize=(12,4))\n",
    "sns.barplot(day_of_week,daily_sales)\n",
    "plt.title('Sales by Days', fontdict={'fontsize': 16})\n",
    "plt.show()"
   ]
  },
  {
   "cell_type": "markdown",
   "metadata": {},
   "source": [
    "## Group by Class"
   ]
  },
  {
   "cell_type": "code",
   "execution_count": 22,
   "metadata": {},
   "outputs": [],
   "source": [
    "# upper class = 1\n",
    "# middle class = 2\n",
    "# lower class = 3\n",
    "\n",
    "df.loc[df['price'] > 750000, 'class_scale'] = 1\n",
    "df.loc[(df['price'] < 750000) & (df['price'] > 350000), 'class_scale'] = 2\n",
    "df.loc[df['price'] < 350000, 'class_scale'] = 3"
   ]
  },
  {
   "cell_type": "code",
   "execution_count": 23,
   "metadata": {},
   "outputs": [
    {
     "name": "stderr",
     "output_type": "stream",
     "text": [
      "<ipython-input-23-2c9d313e0316>:1: FutureWarning: Indexing with multiple keys (implicitly converted to a tuple of keys) will be deprecated, use a list instead.\n",
      "  grouped = df.groupby(['class_scale'])['price', 'grade'].agg(['mean','min', 'max', 'std']).round()\n"
     ]
    },
    {
     "data": {
      "text/html": [
       "<div>\n",
       "<style scoped>\n",
       "    .dataframe tbody tr th:only-of-type {\n",
       "        vertical-align: middle;\n",
       "    }\n",
       "\n",
       "    .dataframe tbody tr th {\n",
       "        vertical-align: top;\n",
       "    }\n",
       "\n",
       "    .dataframe thead tr th {\n",
       "        text-align: left;\n",
       "    }\n",
       "\n",
       "    .dataframe thead tr:last-of-type th {\n",
       "        text-align: right;\n",
       "    }\n",
       "</style>\n",
       "<table border=\"1\" class=\"dataframe\">\n",
       "  <thead>\n",
       "    <tr>\n",
       "      <th></th>\n",
       "      <th colspan=\"4\" halign=\"left\">price</th>\n",
       "      <th colspan=\"4\" halign=\"left\">grade</th>\n",
       "    </tr>\n",
       "    <tr>\n",
       "      <th></th>\n",
       "      <th>mean</th>\n",
       "      <th>min</th>\n",
       "      <th>max</th>\n",
       "      <th>std</th>\n",
       "      <th>mean</th>\n",
       "      <th>min</th>\n",
       "      <th>max</th>\n",
       "      <th>std</th>\n",
       "    </tr>\n",
       "    <tr>\n",
       "      <th>class_scale</th>\n",
       "      <th></th>\n",
       "      <th></th>\n",
       "      <th></th>\n",
       "      <th></th>\n",
       "      <th></th>\n",
       "      <th></th>\n",
       "      <th></th>\n",
       "      <th></th>\n",
       "    </tr>\n",
       "  </thead>\n",
       "  <tbody>\n",
       "    <tr>\n",
       "      <th>1.0</th>\n",
       "      <td>1140445.0</td>\n",
       "      <td>750500.0</td>\n",
       "      <td>7700000.0</td>\n",
       "      <td>539338.0</td>\n",
       "      <td>9.0</td>\n",
       "      <td>5</td>\n",
       "      <td>13</td>\n",
       "      <td>1.0</td>\n",
       "    </tr>\n",
       "    <tr>\n",
       "      <th>2.0</th>\n",
       "      <td>513194.0</td>\n",
       "      <td>350500.0</td>\n",
       "      <td>749999.0</td>\n",
       "      <td>107749.0</td>\n",
       "      <td>8.0</td>\n",
       "      <td>4</td>\n",
       "      <td>11</td>\n",
       "      <td>1.0</td>\n",
       "    </tr>\n",
       "    <tr>\n",
       "      <th>3.0</th>\n",
       "      <td>267266.0</td>\n",
       "      <td>78000.0</td>\n",
       "      <td>349990.0</td>\n",
       "      <td>54144.0</td>\n",
       "      <td>7.0</td>\n",
       "      <td>3</td>\n",
       "      <td>10</td>\n",
       "      <td>1.0</td>\n",
       "    </tr>\n",
       "  </tbody>\n",
       "</table>\n",
       "</div>"
      ],
      "text/plain": [
       "                 price                                grade             \n",
       "                  mean       min        max       std  mean min max  std\n",
       "class_scale                                                             \n",
       "1.0          1140445.0  750500.0  7700000.0  539338.0   9.0   5  13  1.0\n",
       "2.0           513194.0  350500.0   749999.0  107749.0   8.0   4  11  1.0\n",
       "3.0           267266.0   78000.0   349990.0   54144.0   7.0   3  10  1.0"
      ]
     },
     "execution_count": 23,
     "metadata": {},
     "output_type": "execute_result"
    }
   ],
   "source": [
    "grouped = df.groupby(['class_scale'])['price', 'grade'].agg(['mean','min', 'max', 'std']).round()\n",
    "grouped.head()"
   ]
  },
  {
   "cell_type": "code",
   "execution_count": 24,
   "metadata": {},
   "outputs": [
    {
     "data": {
      "text/plain": [
       "2.0    9919\n",
       "3.0    5888\n",
       "1.0    3189\n",
       "Name: class_scale, dtype: int64"
      ]
     },
     "execution_count": 24,
     "metadata": {},
     "output_type": "execute_result"
    }
   ],
   "source": [
    "# upper class = 17%\n",
    "# middle class = 52% \n",
    "# lower class = 31%\n",
    "df.class_scale.value_counts()"
   ]
  },
  {
   "cell_type": "markdown",
   "metadata": {},
   "source": [
    "## Location"
   ]
  },
  {
   "cell_type": "code",
   "execution_count": 25,
   "metadata": {},
   "outputs": [
    {
     "name": "stdout",
     "output_type": "stream",
     "text": [
      "Requirement already satisfied: uszipcode in c:\\users\\daveb\\anaconda3\\lib\\site-packages (0.2.4)\n",
      "Requirement already satisfied: pathlib-mate in c:\\users\\daveb\\anaconda3\\lib\\site-packages (from uszipcode) (1.0.0)\n",
      "Requirement already satisfied: attrs in c:\\users\\daveb\\anaconda3\\lib\\site-packages (from uszipcode) (19.3.0)\n",
      "Requirement already satisfied: sqlalchemy in c:\\users\\daveb\\anaconda3\\lib\\site-packages (from uszipcode) (1.3.18)\n",
      "Requirement already satisfied: requests in c:\\users\\daveb\\anaconda3\\lib\\site-packages (from uszipcode) (2.24.0)\n",
      "Requirement already satisfied: autopep8 in c:\\users\\daveb\\anaconda3\\lib\\site-packages (from pathlib-mate->uszipcode) (1.5.3)\n",
      "Requirement already satisfied: six in c:\\users\\daveb\\anaconda3\\lib\\site-packages (from pathlib-mate->uszipcode) (1.15.0)\n",
      "Requirement already satisfied: chardet<4,>=3.0.2 in c:\\users\\daveb\\anaconda3\\lib\\site-packages (from requests->uszipcode) (3.0.4)\n",
      "Requirement already satisfied: idna<3,>=2.5 in c:\\users\\daveb\\anaconda3\\lib\\site-packages (from requests->uszipcode) (2.10)\n",
      "Requirement already satisfied: urllib3!=1.25.0,!=1.25.1,<1.26,>=1.21.1 in c:\\users\\daveb\\anaconda3\\lib\\site-packages (from requests->uszipcode) (1.25.9)\n",
      "Requirement already satisfied: certifi>=2017.4.17 in c:\\users\\daveb\\anaconda3\\lib\\site-packages (from requests->uszipcode) (2020.6.20)\n",
      "Requirement already satisfied: toml in c:\\users\\daveb\\anaconda3\\lib\\site-packages (from autopep8->pathlib-mate->uszipcode) (0.10.1)\n",
      "Requirement already satisfied: pycodestyle>=2.6.0 in c:\\users\\daveb\\anaconda3\\lib\\site-packages (from autopep8->pathlib-mate->uszipcode) (2.6.0)\n",
      "Note: you may need to restart the kernel to use updated packages.\n"
     ]
    }
   ],
   "source": [
    "%pip install uszipcode"
   ]
  },
  {
   "cell_type": "code",
   "execution_count": 26,
   "metadata": {},
   "outputs": [
    {
     "data": {
      "text/plain": [
       "SimpleZipcode(zipcode='10001', zipcode_type='Standard', major_city='New York', post_office_city='New York, NY', common_city_list=['New York'], county='New York County', state='NY', lat=40.75, lng=-73.99, timezone='Eastern', radius_in_miles=0.9090909090909091, area_code_list=['718', '917', '347', '646'], population=21102, population_density=33959.0, land_area_in_sqmi=0.62, water_area_in_sqmi=0.0, housing_units=12476, occupied_housing_units=11031, median_home_value=650200, median_household_income=81671, bounds_west=-74.008621, bounds_east=-73.984076, bounds_north=40.759731, bounds_south=40.743451)"
      ]
     },
     "execution_count": 26,
     "metadata": {},
     "output_type": "execute_result"
    }
   ],
   "source": [
    "from uszipcode import SearchEngine\n",
    "search = SearchEngine(simple_zipcode=True) # set simple_zipcode=False to use rich info database\n",
    "zipcode = search.by_zipcode(\"10001\")\n",
    "zipcode"
   ]
  },
  {
   "cell_type": "code",
   "execution_count": 27,
   "metadata": {},
   "outputs": [
    {
     "data": {
      "text/plain": [
       "70"
      ]
     },
     "execution_count": 27,
     "metadata": {},
     "output_type": "execute_result"
    }
   ],
   "source": [
    "df.zipcode.nunique()"
   ]
  },
  {
   "cell_type": "code",
   "execution_count": 28,
   "metadata": {},
   "outputs": [
    {
     "data": {
      "text/plain": [
       "{'zipcode': '10001',\n",
       " 'zipcode_type': 'Standard',\n",
       " 'major_city': 'New York',\n",
       " 'post_office_city': 'New York, NY',\n",
       " 'common_city_list': ['New York'],\n",
       " 'county': 'New York County',\n",
       " 'state': 'NY',\n",
       " 'lat': 40.75,\n",
       " 'lng': -73.99,\n",
       " 'timezone': 'Eastern',\n",
       " 'radius_in_miles': 0.9090909090909091,\n",
       " 'area_code_list': ['718', '917', '347', '646'],\n",
       " 'population': 21102,\n",
       " 'population_density': 33959.0,\n",
       " 'land_area_in_sqmi': 0.62,\n",
       " 'water_area_in_sqmi': 0.0,\n",
       " 'housing_units': 12476,\n",
       " 'occupied_housing_units': 11031,\n",
       " 'median_home_value': 650200,\n",
       " 'median_household_income': 81671,\n",
       " 'bounds_west': -74.008621,\n",
       " 'bounds_east': -73.984076,\n",
       " 'bounds_north': 40.759731,\n",
       " 'bounds_south': 40.743451}"
      ]
     },
     "execution_count": 28,
     "metadata": {},
     "output_type": "execute_result"
    }
   ],
   "source": [
    "zipcode.to_dict()"
   ]
  },
  {
   "cell_type": "code",
   "execution_count": 29,
   "metadata": {},
   "outputs": [
    {
     "ename": "AttributeError",
     "evalue": "'int' object has no attribute 'name'",
     "output_type": "error",
     "traceback": [
      "\u001b[1;31m---------------------------------------------------------------------------\u001b[0m",
      "\u001b[1;31mAttributeError\u001b[0m                            Traceback (most recent call last)",
      "\u001b[1;32m<ipython-input-29-059e6ee0bb38>\u001b[0m in \u001b[0;36m<module>\u001b[1;34m\u001b[0m\n\u001b[1;32m----> 1\u001b[1;33m res = search.by_population(lower=0, upper=999999999,\n\u001b[0m\u001b[0;32m      2\u001b[0m sort_by=zipcode.population, ascending=False, returns=10)\n\u001b[0;32m      3\u001b[0m \u001b[1;32mfor\u001b[0m \u001b[0mzipcode\u001b[0m \u001b[1;32min\u001b[0m \u001b[0mres\u001b[0m\u001b[1;33m:\u001b[0m\u001b[1;33m\u001b[0m\u001b[1;33m\u001b[0m\u001b[0m\n\u001b[0;32m      4\u001b[0m     \u001b[0mprint\u001b[0m\u001b[1;33m(\u001b[0m\u001b[0mzipcode\u001b[0m\u001b[1;33m)\u001b[0m\u001b[1;33m\u001b[0m\u001b[1;33m\u001b[0m\u001b[0m\n",
      "\u001b[1;32m~\\anaconda3\\lib\\site-packages\\uszipcode\\search.py\u001b[0m in \u001b[0;36mby_population\u001b[1;34m(self, lower, upper, zipcode_type, sort_by, ascending, returns)\u001b[0m\n\u001b[0;32m    708\u001b[0m         \u001b[0mSearch\u001b[0m \u001b[0mzipcode\u001b[0m \u001b[0minformation\u001b[0m \u001b[0mby\u001b[0m \u001b[0mpopulation\u001b[0m \u001b[0mrange\u001b[0m\u001b[1;33m.\u001b[0m\u001b[1;33m\u001b[0m\u001b[1;33m\u001b[0m\u001b[0m\n\u001b[0;32m    709\u001b[0m         \"\"\"\n\u001b[1;32m--> 710\u001b[1;33m         return self.query(\n\u001b[0m\u001b[0;32m    711\u001b[0m             \u001b[0mpopulation_lower\u001b[0m\u001b[1;33m=\u001b[0m\u001b[0mlower\u001b[0m\u001b[1;33m,\u001b[0m\u001b[1;33m\u001b[0m\u001b[1;33m\u001b[0m\u001b[0m\n\u001b[0;32m    712\u001b[0m             \u001b[0mpopulation_upper\u001b[0m\u001b[1;33m=\u001b[0m\u001b[0mupper\u001b[0m\u001b[1;33m,\u001b[0m\u001b[1;33m\u001b[0m\u001b[1;33m\u001b[0m\u001b[0m\n",
      "\u001b[1;32m~\\anaconda3\\lib\\site-packages\\uszipcode\\search.py\u001b[0m in \u001b[0;36mquery\u001b[1;34m(self, zipcode, prefix, pattern, city, state, lat, lng, radius, population_lower, population_upper, population_density_lower, population_density_upper, land_area_in_sqmi_lower, land_area_in_sqmi_upper, water_area_in_sqmi_lower, water_area_in_sqmi_upper, housing_units_lower, housing_units_upper, occupied_housing_units_lower, occupied_housing_units_upper, median_home_value_lower, median_home_value_upper, median_household_income_lower, median_household_income_upper, zipcode_type, sort_by, ascending, returns)\u001b[0m\n\u001b[0;32m    503\u001b[0m \u001b[1;33m\u001b[0m\u001b[0m\n\u001b[0;32m    504\u001b[0m         \u001b[1;31m# --- solve coordinates and other search sort_by conflict ---\u001b[0m\u001b[1;33m\u001b[0m\u001b[1;33m\u001b[0m\u001b[1;33m\u001b[0m\u001b[0m\n\u001b[1;32m--> 505\u001b[1;33m         \u001b[0msort_by\u001b[0m \u001b[1;33m=\u001b[0m \u001b[0mself\u001b[0m\u001b[1;33m.\u001b[0m\u001b[0m_resolve_sort_by\u001b[0m\u001b[1;33m(\u001b[0m\u001b[0msort_by\u001b[0m\u001b[1;33m,\u001b[0m \u001b[0mflag_radius_query\u001b[0m\u001b[1;33m)\u001b[0m\u001b[1;33m\u001b[0m\u001b[1;33m\u001b[0m\u001b[0m\n\u001b[0m\u001b[0;32m    506\u001b[0m \u001b[1;33m\u001b[0m\u001b[0m\n\u001b[0;32m    507\u001b[0m         \u001b[0mq\u001b[0m \u001b[1;33m=\u001b[0m \u001b[0mself\u001b[0m\u001b[1;33m.\u001b[0m\u001b[0mses\u001b[0m\u001b[1;33m.\u001b[0m\u001b[0mquery\u001b[0m\u001b[1;33m(\u001b[0m\u001b[0mself\u001b[0m\u001b[1;33m.\u001b[0m\u001b[0mzip_klass\u001b[0m\u001b[1;33m)\u001b[0m\u001b[1;33m.\u001b[0m\u001b[0mfilter\u001b[0m\u001b[1;33m(\u001b[0m\u001b[1;33m*\u001b[0m\u001b[0mfilters\u001b[0m\u001b[1;33m)\u001b[0m\u001b[1;33m\u001b[0m\u001b[1;33m\u001b[0m\u001b[0m\n",
      "\u001b[1;32m~\\anaconda3\\lib\\site-packages\\uszipcode\\search.py\u001b[0m in \u001b[0;36m_resolve_sort_by\u001b[1;34m(sort_by, flag_radius_query)\u001b[0m\n\u001b[0;32m    285\u001b[0m                 \u001b[1;32mraise\u001b[0m \u001b[0mValueError\u001b[0m\u001b[1;33m(\u001b[0m\u001b[0mmsg\u001b[0m\u001b[1;33m)\u001b[0m\u001b[1;33m\u001b[0m\u001b[1;33m\u001b[0m\u001b[0m\n\u001b[0;32m    286\u001b[0m         \u001b[1;32melse\u001b[0m\u001b[1;33m:\u001b[0m\u001b[1;33m\u001b[0m\u001b[1;33m\u001b[0m\u001b[0m\n\u001b[1;32m--> 287\u001b[1;33m             \u001b[0msort_by\u001b[0m \u001b[1;33m=\u001b[0m \u001b[0msort_by\u001b[0m\u001b[1;33m.\u001b[0m\u001b[0mname\u001b[0m\u001b[1;33m\u001b[0m\u001b[1;33m\u001b[0m\u001b[0m\n\u001b[0m\u001b[0;32m    288\u001b[0m \u001b[1;33m\u001b[0m\u001b[0m\n\u001b[0;32m    289\u001b[0m         \u001b[1;32mreturn\u001b[0m \u001b[0msort_by\u001b[0m\u001b[1;33m\u001b[0m\u001b[1;33m\u001b[0m\u001b[0m\n",
      "\u001b[1;31mAttributeError\u001b[0m: 'int' object has no attribute 'name'"
     ]
    }
   ],
   "source": [
    "res = search.by_population(lower=0, upper=999999999,\n",
    "sort_by=zipcode.population, ascending=False, returns=10)\n",
    "for zipcode in res:\n",
    "    print(zipcode)"
   ]
  },
  {
   "cell_type": "code",
   "execution_count": 30,
   "metadata": {},
   "outputs": [
    {
     "name": "stdout",
     "output_type": "stream",
     "text": [
      "            zipcode\n",
      "id                 \n",
      "6414100192    98125\n",
      "5631500400    98028\n",
      "2487200875    98136\n",
      "1954400510    98074\n",
      "7237550310    98053\n",
      "...             ...\n",
      "2997800021    98116\n",
      "263000018     98103\n",
      "6600060120    98146\n",
      "1523300141    98144\n",
      "1523300157    98144\n",
      "\n",
      "[19221 rows x 1 columns]\n"
     ]
    }
   ],
   "source": [
    "zcode = pd.DataFrame(df['zipcode'])\n",
    "print (zcode)"
   ]
  },
  {
   "cell_type": "code",
   "execution_count": 31,
   "metadata": {},
   "outputs": [
    {
     "ename": "ModuleNotFoundError",
     "evalue": "No module named 'geopandas'",
     "output_type": "error",
     "traceback": [
      "\u001b[1;31m---------------------------------------------------------------------------\u001b[0m",
      "\u001b[1;31mModuleNotFoundError\u001b[0m                       Traceback (most recent call last)",
      "\u001b[1;32m<ipython-input-31-9dab79ddb0d5>\u001b[0m in \u001b[0;36m<module>\u001b[1;34m\u001b[0m\n\u001b[0;32m      1\u001b[0m \u001b[1;31m# from osgeo import gdal, ogr, osr\u001b[0m\u001b[1;33m\u001b[0m\u001b[1;33m\u001b[0m\u001b[1;33m\u001b[0m\u001b[0m\n\u001b[0;32m      2\u001b[0m \u001b[1;31m# from fiona.ogrext import Iterator, ItemsIterator, KeysIterator\u001b[0m\u001b[1;33m\u001b[0m\u001b[1;33m\u001b[0m\u001b[1;33m\u001b[0m\u001b[0m\n\u001b[1;32m----> 3\u001b[1;33m \u001b[1;32mfrom\u001b[0m \u001b[0mgeopandas\u001b[0m \u001b[1;32mimport\u001b[0m \u001b[0mGeoDataFrame\u001b[0m\u001b[1;33m\u001b[0m\u001b[1;33m\u001b[0m\u001b[0m\n\u001b[0m\u001b[0;32m      4\u001b[0m \u001b[0mgdal\u001b[0m\u001b[1;33m.\u001b[0m\u001b[0mVersionInfo\u001b[0m\u001b[1;33m(\u001b[0m\u001b[1;33m)\u001b[0m\u001b[1;33m\u001b[0m\u001b[1;33m\u001b[0m\u001b[0m\n",
      "\u001b[1;31mModuleNotFoundError\u001b[0m: No module named 'geopandas'"
     ]
    }
   ],
   "source": [
    "# from osgeo import gdal, ogr, osr\n",
    "# from fiona.ogrext import Iterator, ItemsIterator, KeysIterator\n",
    "from geopandas import GeoDataFrame\n",
    "gdal.VersionInfo()"
   ]
  },
  {
   "cell_type": "code",
   "execution_count": 32,
   "metadata": {},
   "outputs": [
    {
     "ename": "TypeError",
     "evalue": "'SimpleZipcode' object is not subscriptable",
     "output_type": "error",
     "traceback": [
      "\u001b[1;31m---------------------------------------------------------------------------\u001b[0m",
      "\u001b[1;31mTypeError\u001b[0m                                 Traceback (most recent call last)",
      "\u001b[1;32m<ipython-input-32-05e5a626bb68>\u001b[0m in \u001b[0;36m<module>\u001b[1;34m\u001b[0m\n\u001b[0;32m      6\u001b[0m         \u001b[1;32mreturn\u001b[0m \u001b[0mcity\u001b[0m \u001b[1;32mif\u001b[0m \u001b[0mcity\u001b[0m \u001b[1;32melse\u001b[0m \u001b[0mx\u001b[0m\u001b[1;33m\u001b[0m\u001b[1;33m\u001b[0m\u001b[0m\n\u001b[0;32m      7\u001b[0m \u001b[1;33m\u001b[0m\u001b[0m\n\u001b[1;32m----> 8\u001b[1;33m \u001b[0mzcode\u001b[0m\u001b[1;33m[\u001b[0m\u001b[1;34m'City'\u001b[0m\u001b[1;33m]\u001b[0m \u001b[1;33m=\u001b[0m \u001b[0mzcode\u001b[0m\u001b[1;33m[\u001b[0m\u001b[1;34m'zipcode'\u001b[0m\u001b[1;33m]\u001b[0m\u001b[1;33m.\u001b[0m\u001b[0mapply\u001b[0m\u001b[1;33m(\u001b[0m\u001b[0mzco\u001b[0m\u001b[1;33m)\u001b[0m\u001b[1;33m\u001b[0m\u001b[1;33m\u001b[0m\u001b[0m\n\u001b[0m\u001b[0;32m      9\u001b[0m \u001b[0mprint\u001b[0m \u001b[1;33m(\u001b[0m\u001b[0mzcode\u001b[0m\u001b[1;33m)\u001b[0m\u001b[1;33m\u001b[0m\u001b[1;33m\u001b[0m\u001b[0m\n",
      "\u001b[1;32m~\\anaconda3\\lib\\site-packages\\pandas\\core\\series.py\u001b[0m in \u001b[0;36mapply\u001b[1;34m(self, func, convert_dtype, args, **kwds)\u001b[0m\n\u001b[0;32m   3846\u001b[0m             \u001b[1;32melse\u001b[0m\u001b[1;33m:\u001b[0m\u001b[1;33m\u001b[0m\u001b[1;33m\u001b[0m\u001b[0m\n\u001b[0;32m   3847\u001b[0m                 \u001b[0mvalues\u001b[0m \u001b[1;33m=\u001b[0m \u001b[0mself\u001b[0m\u001b[1;33m.\u001b[0m\u001b[0mastype\u001b[0m\u001b[1;33m(\u001b[0m\u001b[0mobject\u001b[0m\u001b[1;33m)\u001b[0m\u001b[1;33m.\u001b[0m\u001b[0mvalues\u001b[0m\u001b[1;33m\u001b[0m\u001b[1;33m\u001b[0m\u001b[0m\n\u001b[1;32m-> 3848\u001b[1;33m                 \u001b[0mmapped\u001b[0m \u001b[1;33m=\u001b[0m \u001b[0mlib\u001b[0m\u001b[1;33m.\u001b[0m\u001b[0mmap_infer\u001b[0m\u001b[1;33m(\u001b[0m\u001b[0mvalues\u001b[0m\u001b[1;33m,\u001b[0m \u001b[0mf\u001b[0m\u001b[1;33m,\u001b[0m \u001b[0mconvert\u001b[0m\u001b[1;33m=\u001b[0m\u001b[0mconvert_dtype\u001b[0m\u001b[1;33m)\u001b[0m\u001b[1;33m\u001b[0m\u001b[1;33m\u001b[0m\u001b[0m\n\u001b[0m\u001b[0;32m   3849\u001b[0m \u001b[1;33m\u001b[0m\u001b[0m\n\u001b[0;32m   3850\u001b[0m         \u001b[1;32mif\u001b[0m \u001b[0mlen\u001b[0m\u001b[1;33m(\u001b[0m\u001b[0mmapped\u001b[0m\u001b[1;33m)\u001b[0m \u001b[1;32mand\u001b[0m \u001b[0misinstance\u001b[0m\u001b[1;33m(\u001b[0m\u001b[0mmapped\u001b[0m\u001b[1;33m[\u001b[0m\u001b[1;36m0\u001b[0m\u001b[1;33m]\u001b[0m\u001b[1;33m,\u001b[0m \u001b[0mSeries\u001b[0m\u001b[1;33m)\u001b[0m\u001b[1;33m:\u001b[0m\u001b[1;33m\u001b[0m\u001b[1;33m\u001b[0m\u001b[0m\n",
      "\u001b[1;32mpandas\\_libs\\lib.pyx\u001b[0m in \u001b[0;36mpandas._libs.lib.map_infer\u001b[1;34m()\u001b[0m\n",
      "\u001b[1;32m<ipython-input-32-05e5a626bb68>\u001b[0m in \u001b[0;36mzco\u001b[1;34m(x)\u001b[0m\n\u001b[0;32m      3\u001b[0m         \u001b[1;32mreturn\u001b[0m \u001b[1;32mNone\u001b[0m\u001b[1;33m\u001b[0m\u001b[1;33m\u001b[0m\u001b[0m\n\u001b[0;32m      4\u001b[0m     \u001b[1;32melse\u001b[0m\u001b[1;33m:\u001b[0m\u001b[1;33m\u001b[0m\u001b[1;33m\u001b[0m\u001b[0m\n\u001b[1;32m----> 5\u001b[1;33m         \u001b[0mcity\u001b[0m \u001b[1;33m=\u001b[0m \u001b[0msearch\u001b[0m\u001b[1;33m.\u001b[0m\u001b[0mby_zipcode\u001b[0m\u001b[1;33m(\u001b[0m\u001b[0mint\u001b[0m\u001b[1;33m(\u001b[0m\u001b[0mx\u001b[0m\u001b[1;33m)\u001b[0m\u001b[1;33m)\u001b[0m\u001b[1;33m[\u001b[0m\u001b[1;34m'City'\u001b[0m\u001b[1;33m]\u001b[0m\u001b[1;33m\u001b[0m\u001b[1;33m\u001b[0m\u001b[0m\n\u001b[0m\u001b[0;32m      6\u001b[0m         \u001b[1;32mreturn\u001b[0m \u001b[0mcity\u001b[0m \u001b[1;32mif\u001b[0m \u001b[0mcity\u001b[0m \u001b[1;32melse\u001b[0m \u001b[0mx\u001b[0m\u001b[1;33m\u001b[0m\u001b[1;33m\u001b[0m\u001b[0m\n\u001b[0;32m      7\u001b[0m \u001b[1;33m\u001b[0m\u001b[0m\n",
      "\u001b[1;31mTypeError\u001b[0m: 'SimpleZipcode' object is not subscriptable"
     ]
    }
   ],
   "source": [
    "def zco(x):\n",
    "    if pd.isnull(x):\n",
    "        return None\n",
    "    else:\n",
    "        city = search.by_zipcode(int(x))['City']\n",
    "        return city if city else x\n",
    "\n",
    "zcode['City'] = zcode['zipcode'].apply(zco)\n",
    "print (zcode)"
   ]
  },
  {
   "cell_type": "code",
   "execution_count": 33,
   "metadata": {},
   "outputs": [
    {
     "ename": "TypeError",
     "evalue": "'SimpleZipcode' object is not subscriptable",
     "output_type": "error",
     "traceback": [
      "\u001b[1;31m---------------------------------------------------------------------------\u001b[0m",
      "\u001b[1;31mTypeError\u001b[0m                                 Traceback (most recent call last)",
      "\u001b[1;32m<ipython-input-33-05e5a626bb68>\u001b[0m in \u001b[0;36m<module>\u001b[1;34m\u001b[0m\n\u001b[0;32m      6\u001b[0m         \u001b[1;32mreturn\u001b[0m \u001b[0mcity\u001b[0m \u001b[1;32mif\u001b[0m \u001b[0mcity\u001b[0m \u001b[1;32melse\u001b[0m \u001b[0mx\u001b[0m\u001b[1;33m\u001b[0m\u001b[1;33m\u001b[0m\u001b[0m\n\u001b[0;32m      7\u001b[0m \u001b[1;33m\u001b[0m\u001b[0m\n\u001b[1;32m----> 8\u001b[1;33m \u001b[0mzcode\u001b[0m\u001b[1;33m[\u001b[0m\u001b[1;34m'City'\u001b[0m\u001b[1;33m]\u001b[0m \u001b[1;33m=\u001b[0m \u001b[0mzcode\u001b[0m\u001b[1;33m[\u001b[0m\u001b[1;34m'zipcode'\u001b[0m\u001b[1;33m]\u001b[0m\u001b[1;33m.\u001b[0m\u001b[0mapply\u001b[0m\u001b[1;33m(\u001b[0m\u001b[0mzco\u001b[0m\u001b[1;33m)\u001b[0m\u001b[1;33m\u001b[0m\u001b[1;33m\u001b[0m\u001b[0m\n\u001b[0m\u001b[0;32m      9\u001b[0m \u001b[0mprint\u001b[0m \u001b[1;33m(\u001b[0m\u001b[0mzcode\u001b[0m\u001b[1;33m)\u001b[0m\u001b[1;33m\u001b[0m\u001b[1;33m\u001b[0m\u001b[0m\n",
      "\u001b[1;32m~\\anaconda3\\lib\\site-packages\\pandas\\core\\series.py\u001b[0m in \u001b[0;36mapply\u001b[1;34m(self, func, convert_dtype, args, **kwds)\u001b[0m\n\u001b[0;32m   3846\u001b[0m             \u001b[1;32melse\u001b[0m\u001b[1;33m:\u001b[0m\u001b[1;33m\u001b[0m\u001b[1;33m\u001b[0m\u001b[0m\n\u001b[0;32m   3847\u001b[0m                 \u001b[0mvalues\u001b[0m \u001b[1;33m=\u001b[0m \u001b[0mself\u001b[0m\u001b[1;33m.\u001b[0m\u001b[0mastype\u001b[0m\u001b[1;33m(\u001b[0m\u001b[0mobject\u001b[0m\u001b[1;33m)\u001b[0m\u001b[1;33m.\u001b[0m\u001b[0mvalues\u001b[0m\u001b[1;33m\u001b[0m\u001b[1;33m\u001b[0m\u001b[0m\n\u001b[1;32m-> 3848\u001b[1;33m                 \u001b[0mmapped\u001b[0m \u001b[1;33m=\u001b[0m \u001b[0mlib\u001b[0m\u001b[1;33m.\u001b[0m\u001b[0mmap_infer\u001b[0m\u001b[1;33m(\u001b[0m\u001b[0mvalues\u001b[0m\u001b[1;33m,\u001b[0m \u001b[0mf\u001b[0m\u001b[1;33m,\u001b[0m \u001b[0mconvert\u001b[0m\u001b[1;33m=\u001b[0m\u001b[0mconvert_dtype\u001b[0m\u001b[1;33m)\u001b[0m\u001b[1;33m\u001b[0m\u001b[1;33m\u001b[0m\u001b[0m\n\u001b[0m\u001b[0;32m   3849\u001b[0m \u001b[1;33m\u001b[0m\u001b[0m\n\u001b[0;32m   3850\u001b[0m         \u001b[1;32mif\u001b[0m \u001b[0mlen\u001b[0m\u001b[1;33m(\u001b[0m\u001b[0mmapped\u001b[0m\u001b[1;33m)\u001b[0m \u001b[1;32mand\u001b[0m \u001b[0misinstance\u001b[0m\u001b[1;33m(\u001b[0m\u001b[0mmapped\u001b[0m\u001b[1;33m[\u001b[0m\u001b[1;36m0\u001b[0m\u001b[1;33m]\u001b[0m\u001b[1;33m,\u001b[0m \u001b[0mSeries\u001b[0m\u001b[1;33m)\u001b[0m\u001b[1;33m:\u001b[0m\u001b[1;33m\u001b[0m\u001b[1;33m\u001b[0m\u001b[0m\n",
      "\u001b[1;32mpandas\\_libs\\lib.pyx\u001b[0m in \u001b[0;36mpandas._libs.lib.map_infer\u001b[1;34m()\u001b[0m\n",
      "\u001b[1;32m<ipython-input-33-05e5a626bb68>\u001b[0m in \u001b[0;36mzco\u001b[1;34m(x)\u001b[0m\n\u001b[0;32m      3\u001b[0m         \u001b[1;32mreturn\u001b[0m \u001b[1;32mNone\u001b[0m\u001b[1;33m\u001b[0m\u001b[1;33m\u001b[0m\u001b[0m\n\u001b[0;32m      4\u001b[0m     \u001b[1;32melse\u001b[0m\u001b[1;33m:\u001b[0m\u001b[1;33m\u001b[0m\u001b[1;33m\u001b[0m\u001b[0m\n\u001b[1;32m----> 5\u001b[1;33m         \u001b[0mcity\u001b[0m \u001b[1;33m=\u001b[0m \u001b[0msearch\u001b[0m\u001b[1;33m.\u001b[0m\u001b[0mby_zipcode\u001b[0m\u001b[1;33m(\u001b[0m\u001b[0mint\u001b[0m\u001b[1;33m(\u001b[0m\u001b[0mx\u001b[0m\u001b[1;33m)\u001b[0m\u001b[1;33m)\u001b[0m\u001b[1;33m[\u001b[0m\u001b[1;34m'City'\u001b[0m\u001b[1;33m]\u001b[0m\u001b[1;33m\u001b[0m\u001b[1;33m\u001b[0m\u001b[0m\n\u001b[0m\u001b[0;32m      6\u001b[0m         \u001b[1;32mreturn\u001b[0m \u001b[0mcity\u001b[0m \u001b[1;32mif\u001b[0m \u001b[0mcity\u001b[0m \u001b[1;32melse\u001b[0m \u001b[0mx\u001b[0m\u001b[1;33m\u001b[0m\u001b[1;33m\u001b[0m\u001b[0m\n\u001b[0;32m      7\u001b[0m \u001b[1;33m\u001b[0m\u001b[0m\n",
      "\u001b[1;31mTypeError\u001b[0m: 'SimpleZipcode' object is not subscriptable"
     ]
    }
   ],
   "source": [
    "def zco(x):\n",
    "    if pd.isnull(x):\n",
    "        return None\n",
    "    else:\n",
    "        city = search.by_zipcode(int(x))['City']\n",
    "        return city if city else x\n",
    "\n",
    "zcode['City'] = zcode['zipcode'].apply(zco)\n",
    "print (zcode)"
   ]
  },
  {
   "cell_type": "code",
   "execution_count": null,
   "metadata": {},
   "outputs": [],
   "source": []
  },
  {
   "cell_type": "code",
   "execution_count": null,
   "metadata": {},
   "outputs": [],
   "source": [
    "df.cut(['price'], 3, )"
   ]
  },
  {
   "cell_type": "code",
   "execution_count": null,
   "metadata": {},
   "outputs": [],
   "source": [
    "pd.plotting.scatter_matrix()"
   ]
  },
  {
   "cell_type": "code",
   "execution_count": null,
   "metadata": {},
   "outputs": [],
   "source": [
    "# create histograms for all numeric columns to get idea of distributions\n",
    "df.hist(figsize = (20,18));"
   ]
  },
  {
   "cell_type": "markdown",
   "metadata": {},
   "source": [
    "# Homoscedasticity"
   ]
  },
  {
   "cell_type": "markdown",
   "metadata": {},
   "source": [
    "Check Linearity for each column. Does col[x] have a linear relationship with price?"
   ]
  },
  {
   "cell_type": "code",
   "execution_count": null,
   "metadata": {},
   "outputs": [],
   "source": [
    "# use jointplot to check for linearity \n",
    "sns.jointplot('bathrooms','price', data=df, kind='reg');"
   ]
  },
  {
   "cell_type": "code",
   "execution_count": null,
   "metadata": {},
   "outputs": [],
   "source": [
    "sns.jointplot('bedrooms','price', data=df, kind='reg');"
   ]
  },
  {
   "cell_type": "code",
   "execution_count": null,
   "metadata": {},
   "outputs": [],
   "source": [
    "sns.jointplot('condition','price', data=df, kind='reg');"
   ]
  },
  {
   "cell_type": "code",
   "execution_count": null,
   "metadata": {},
   "outputs": [],
   "source": [
    "sns.jointplot('floors','price', data=df, kind='reg');"
   ]
  },
  {
   "cell_type": "code",
   "execution_count": null,
   "metadata": {},
   "outputs": [],
   "source": [
    "sns.jointplot('grade','price', data=df, kind='reg');"
   ]
  },
  {
   "cell_type": "code",
   "execution_count": null,
   "metadata": {
    "scrolled": true
   },
   "outputs": [],
   "source": [
    "sns.jointplot('sqft_above','price', data=df, kind='reg');"
   ]
  },
  {
   "cell_type": "code",
   "execution_count": null,
   "metadata": {},
   "outputs": [],
   "source": [
    "sns.jointplot('sqft_basement','price', data=df, kind='reg');"
   ]
  },
  {
   "cell_type": "code",
   "execution_count": null,
   "metadata": {},
   "outputs": [],
   "source": [
    "sns.jointplot('yr_built','price', data=df, kind='reg');"
   ]
  },
  {
   "cell_type": "code",
   "execution_count": null,
   "metadata": {},
   "outputs": [],
   "source": [
    "sns.jointplot('yr_renovated','price', data=df, kind='reg');"
   ]
  },
  {
   "cell_type": "code",
   "execution_count": null,
   "metadata": {},
   "outputs": [],
   "source": [
    "sns.jointplot('sqft_living15','price', data=df, kind='reg');"
   ]
  },
  {
   "cell_type": "code",
   "execution_count": null,
   "metadata": {},
   "outputs": [],
   "source": [
    "sns.jointplot('sqft_lot15','price', data=df, kind='reg');"
   ]
  },
  {
   "cell_type": "markdown",
   "metadata": {},
   "source": [
    "# Multicolinearity: 'bathrooms','bedrooms', 'grade' ,'sqft_above', 'sqft_living15','sqft_lot15' have strong linear relationships to price"
   ]
  },
  {
   "cell_type": "markdown",
   "metadata": {},
   "source": [
    "floors and condition have little to no linear relationship to price"
   ]
  },
  {
   "cell_type": "code",
   "execution_count": null,
   "metadata": {},
   "outputs": [],
   "source": [
    "# checking for multicolinearity across those that had highest linear correlation\n",
    "# keep grade, bedrooms, bathrooms\n",
    "# grade, sqft_living15, and sqft_above all have too high multicolinearity (above 65%) so only need one\n",
    "feats = ['bathrooms','bedrooms', 'grade' ,'sqft_above', 'sqft_living15','sqft_lot15']\n",
    "corr = df[feats].corr()\n",
    "corr"
   ]
  },
  {
   "cell_type": "code",
   "execution_count": null,
   "metadata": {},
   "outputs": [],
   "source": [
    "sns.heatmap(corr, center=0, annot=True);"
   ]
  },
  {
   "cell_type": "code",
   "execution_count": null,
   "metadata": {},
   "outputs": [],
   "source": []
  }
 ],
 "metadata": {
  "kernelspec": {
   "display_name": "Python 3",
   "language": "python",
   "name": "python3"
  },
  "language_info": {
   "codemirror_mode": {
    "name": "ipython",
    "version": 3
   },
   "file_extension": ".py",
   "mimetype": "text/x-python",
   "name": "python",
   "nbconvert_exporter": "python",
   "pygments_lexer": "ipython3",
   "version": "3.8.3"
  }
 },
 "nbformat": 4,
 "nbformat_minor": 4
}
